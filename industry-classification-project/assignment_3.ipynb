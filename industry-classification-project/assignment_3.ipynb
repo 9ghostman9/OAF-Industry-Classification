{
 "cells": [
  {
   "cell_type": "markdown",
   "source": "# Assignment 3, Task 1: Apply at least one model from another group to the dataset to classify the industry.",
   "metadata": {
    "tags": [],
    "cell_id": "00001-38708c31-c439-44fa-9f37-e8bd2bb6e6ec",
    "deepnote_cell_type": "markdown"
   }
  },
  {
   "cell_type": "markdown",
   "source": "## Assignment Overview:\nWe begin with two datasets: `employer_raw_data_group_2.csv` and `industry_data.csv`.\n\n* `employer_raw_data_group_2.csv` contains 20,000 rows. Each row has the name of a employer and a paragraph description of that employer.\n* `industry_data.csv` contins 13 rows. Each row has the name of an industry and a paragraph description of that industry. \n\nOur task is to use this data to develop a model that examines the description of a company and determines which industry it belongs to.",
   "metadata": {
    "tags": [],
    "cell_id": "00001-2d55e8bd-395c-4463-9498-03ef1135c162",
    "deepnote_cell_type": "markdown"
   }
  },
  {
   "cell_type": "markdown",
   "source": "#### Modules\nWe start by importing all of the modules we'll be using along the way.",
   "metadata": {
    "tags": [],
    "cell_id": "00003-41234a05-495c-4cc5-bff8-b72b152750cd",
    "deepnote_cell_type": "markdown"
   }
  },
  {
   "cell_type": "code",
   "metadata": {
    "tags": [],
    "deepnote_to_be_reexecuted": false,
    "source_hash": "46940d5a",
    "execution_start": 1636182527695,
    "execution_millis": 2633,
    "cell_id": "00002-7ed13bc8-c1ee-4b49-8026-06d83e8a22f5",
    "deepnote_cell_type": "code"
   },
   "source": "# Importing Modules\nimport numpy as np\nimport pandas as pd\nimport regex as re\nimport string\nimport unicodedata\nimport nltk\nimport random\nnltk.download('wordnet')\nfrom sklearn.feature_extraction.text import CountVectorizer\nfrom sklearn.decomposition import LatentDirichletAllocation",
   "execution_count": 1,
   "outputs": [
    {
     "name": "stderr",
     "text": "[nltk_data] Downloading package wordnet to /root/nltk_data...\n[nltk_data]   Package wordnet is already up-to-date!\n",
     "output_type": "stream"
    }
   ]
  },
  {
   "cell_type": "markdown",
   "source": "#### Read Employer Data\nNow, we get the employer dataset that we've been given and we put it into a Pandas dataframe.",
   "metadata": {
    "tags": [],
    "cell_id": "00005-d4781bf2-c365-4928-b48a-843a3ed8b848",
    "deepnote_cell_type": "markdown"
   }
  },
  {
   "cell_type": "code",
   "metadata": {
    "tags": [],
    "deepnote_to_be_reexecuted": false,
    "source_hash": "a8cc1a83",
    "execution_start": 1636182530333,
    "execution_millis": 7116,
    "cell_id": "00003-0f298328-b09c-46e5-a32e-00225c0a3034",
    "deepnote_cell_type": "code"
   },
   "source": "# Reading in employer data\nemployer_data = pd.read_csv('employer_raw_data_group_2.csv')",
   "execution_count": 2,
   "outputs": []
  },
  {
   "cell_type": "markdown",
   "source": "#### Preprocessing\nHere, we set up and use a preprocessing function to clean the descriptions of the employers, making them easier for the model to use.",
   "metadata": {
    "tags": [],
    "cell_id": "00007-fe0b37f9-7cf3-4079-af9a-74339da545b0",
    "deepnote_cell_type": "markdown"
   }
  },
  {
   "cell_type": "code",
   "metadata": {
    "tags": [],
    "deepnote_to_be_reexecuted": false,
    "source_hash": "27aae084",
    "execution_start": 1636182537469,
    "execution_millis": 18,
    "cell_id": "00004-02c9ac01-5f41-4ecf-bb6c-13df479b0848",
    "deepnote_cell_type": "code"
   },
   "source": "# Preprocessing employer data\n\n# Creating Preprocessing function\ndef get_preprocessing_function(\n    use_lower: bool = True,\n    use_alpha: bool = True,\n    use_stemming: bool = False,\n    use_nodates: bool = False,\n    use_nourl: bool = True,\n    use_stopwords: bool=False,\n    use_lemmatizer: bool=False,\n    use_nocity: bool=False\n):\n\n    # Setting up Stemmer and Lemmatizer\n    stemmer = nltk.stem.SnowballStemmer(\"english\")\n    stop_words = []\n    with open(\"stopwords.txt\", \"r\") as f_in:\n            stop_words = [i.strip().lower() for i in f_in.readlines()]\n    lemmatizer = nltk.stem.WordNetLemmatizer()\n    \n    def alpha(text: str): # Removes non-alphabetic characters\n        return re.sub(\"[^a-z]+\", \" \", text) if use_alpha else text\n\n    def lower(text: str): # Makes all capital letters lowercase\n        return text.lower() if use_lower else text\n        \n    def stemming(text: str): # Stems words, making shorter, more\n        if use_stemming:\n            text = ' '.join(stemmer.stem(x) for x in text.split())\n        return text\n    \n    def dates(text: str): # Removes date names and abreviations\n        dates = ['january', 'february', 'march', 'april', 'may', 'june', 'july', 'august', 'september', 'october', 'november', 'december', 'jan', 'feb', 'mar', 'apr', 'may', 'jun', 'jul', 'aug', 'sep', \n    'sept', 'oct', 'nov', 'dec'] \n        return \" \".join([word for word in text.split(\" \") if word not in dates]) if use_nodates else text\n\n    def url(text: str): # Removes urls\n        url_pattern = re.compile('\\\\S*\\\\.com\\\\b|https?://\\S+|www\\.\\S+')\n        return url_pattern.sub('', text) if use_nourl else text\n    \n    def remove_stopwords(text): # Removes commonly-used words (stopwords)\n        return \" \".join([word for word in text.split(\" \") if word not in stop_words]) if use_stopwords else text\n    \n    def lemmatize(text: str):\n        if use_lemmatizer:\n            text=' '.join(lemmatizer.lemmatize(x) for x in text.split())\n        return text\n    \n    def cityremover(text: str):\n        city_state_pattern = re.compile(\"(?<![A-Za-z])[A-Z][a-z]+, [A-Z]{2}(?![A-Za-z])\") # Matches strings like \"Nashville, TN\"\n        return city_state_pattern.sub('city', text) if use_nocity else text\n\n    def preprocess(text: str):\n        #Create list of steps\n        steps = [lower,url, alpha, dates, cityremover, remove_stopwords, lemmatize, stemming]\n        for step in steps:\n            text = step(text)\n        return text\n    \n    return preprocess\n\n# Instantiating preprocessing function\npreprocess = get_preprocessing_function(\n    use_lower= True,\n    use_alpha= True,\n    use_stemming= False,\n    use_nodates= True,\n    use_nourl= True,\n    use_stopwords= True,\n    use_lemmatizer= False,\n    use_nocity=True\n)\n\n# Preprocessing employer data\n\n# Commenting this out, since we have already gotten the preprocessed data in the csv\n# employer_data['cleaned_description'] = employer_data['description'].apply(preprocess)",
   "execution_count": 3,
   "outputs": []
  },
  {
   "cell_type": "markdown",
   "source": "#### Reading Cleaned Data into CSV\nNow that we've preprocessed all 20,000 employer descriptions, we can write the cleaned descriptions back into the CSV file so that they'll be readily available for future use.",
   "metadata": {
    "tags": [],
    "cell_id": "00009-91909af1-76fa-4143-8dfc-4f4003eeaa1a",
    "deepnote_cell_type": "markdown"
   }
  },
  {
   "cell_type": "code",
   "metadata": {
    "tags": [],
    "deepnote_to_be_reexecuted": false,
    "source_hash": "13116780",
    "execution_start": 1636182537489,
    "execution_millis": 11244,
    "cell_id": "00005-7085f23d-02fe-4b83-89e3-071c14014446",
    "deepnote_cell_type": "code"
   },
   "source": "# Reading cleaned employer data into csv file\nemployer_data = employer_data[['employers', 'description', 'cleaned_description']]\nemployer_data.to_csv('employer_raw_data_group_2.csv')",
   "execution_count": 4,
   "outputs": []
  },
  {
   "cell_type": "code",
   "metadata": {
    "tags": [],
    "cell_id": "00010-6080854b-c146-4422-8c80-3b8477704fb4",
    "deepnote_to_be_reexecuted": false,
    "source_hash": "ce8c5e0f",
    "execution_start": 1636182548765,
    "execution_millis": 61,
    "deepnote_cell_type": "code"
   },
   "source": "employer_data.head()",
   "execution_count": 5,
   "outputs": [
    {
     "output_type": "execute_result",
     "execution_count": 5,
     "data": {
      "application/vnd.deepnote.dataframe.v2+json": {
       "row_count": 5,
       "column_count": 3,
       "columns": [
        {
         "name": "employers",
         "dtype": "object",
         "stats": {
          "unique_count": 5,
          "nan_count": 0,
          "categories": [
           {
            "name": "moovel north america, llc",
            "count": 1
           },
           {
            "name": "promon engenharia ltda.",
            "count": 1
           },
           {
            "name": "3 others",
            "count": 3
           }
          ]
         }
        },
        {
         "name": "description",
         "dtype": "object",
         "stats": {
          "unique_count": 5,
          "nan_count": 0,
          "categories": [
           {
            "name": "moovel’s scalable solutions allow transit agencies to implement new technology quickly, while building the foundation to achieve their long-term goals. The moovel Mobility Platform is adaptable to meet the needs of cities and organizations of all sizes and needs, combining the most up-to-date mobile ticketing technology with a full suite of ... moovel North America, LLC | 11 followers on LinkedIn. MaaS Software services designed to digitize mobile ticketing and simplify your back-office operations. From transaction data to fare collection... moovel North America, LLC Information Provider of mobile ticketing application and services intended to simplify the travel experience in cities. Free and open company data on Washington (US) company MOOVEL NORTH AMERICA, LLC (company number 604070023), 217 NW 4TH AVE, PORTLAND, OR, 97209 moovel North America originated from an acquisition and merger of two start-ups, RideScout, based in Austin, one of the first companies to offer trip planning for a variety of mobility options—including transit, rideshare, and bikeshare—all in one app; and Portland-based GlobeSherpa, an industry leader in mobile ticketing solutions for ... moovel North America LLC RideScout LLC develops mobile applications. The Company offers application for the transportation sector. Moovel North America, LLC is a Minnesota Limited-Liability Company (Foreign) filed On October 17, 2016. The company's filing status is listed as Active and its File Number is 909924100040. The Registered Agent on file for this company is National Registered Agents, Inc. and is located at 1010 Dale St. N, Saint Paul, MN 55117-5603. moovel North America, LLC Business Overview moovel North America, LLC is a business entity registered with Colorado Department of State (CDOS). The business entity number is #20161850269. The business office address is located at 209 Nw 4th Ave, Suite 200, Portland, OR 97209. The business is formed on December 19, 2016. There are 14 companies that go by the name of Moovel North America, LLC. These companies are located in Baltimore MD, Clayton MO, Cleveland OH, Dallas TX, Dover DE, Glen Allen VA, Lawrenceville GA, Olympia WA, Phoenix AZ, Plantation FL, Portland OR, Saint Paul MN, Topeka KS, and Wilmington DE. National Registered Agents, Inc. Of Ks. moovel N.A. LLC, a part of moovel Group GmbH, enables seamless multimodal experiences and connected transit commerce through mobile applications. Led by CEO Nat Parker, moovel is headquartered in... Bram Granovsky is Chief Executive Officer at Moovel North America LLC. See Bram Granovsky's compensation, career history, education, & memberships. (“Masabi”), moovel North America, LLC (“moovel”) and several others. MTA determined that moovel offered the most advantageous proposaL to the State, and recommended that it be awarded the Contract. 5. On April 17, 2017, MTA notified Masabi via letter that moovel had been selected for award. moovel North America, LLC Mar 2021 - Present1 month DevOps Engineer Phase2 Sep 2017 - Mar 20213 years 7 months Portland, Oregon Area Design, provision, and maintain cloud environments in Amazon Web... Daimler has exited the transit technology business in the U.S. by selling off Moovel North America, a Portland-based division that once sought to remake urban transportation. Monday’s deal follows... car2go North America LLC, a wholly-owned subsidiary of Daimler North America Corporation and a brand of moovel GmbH, offers an innovative mobility solution in rapidly growing urban areas via a... Moovel is expected to announce today the creation of a U.S. subsidiary called moovel North America LLC, formed through the merger of moovel's Austin, TX-based startup RideScout, which helps users ... Systems and methods for facilitating use of physical tokens in a transit system are disclosed. In one implementation, a method for facilitating use of physical tokens by a server includes generating a token identifier and generating, using a private key associated with the server, a cryptographic signature based on the token identifier. to San Francisco Municipal Transportation Agency Contract No. 2015-26, with moovel North America, LLC, for software development services for the MuniMobile smartphone ticketing application, to extend the term of the Agreement to October 15, 2018 at no additional cost. Adam McGavock currently serves as the Director of Business Development for moovel North America, a transportation technology company working to bring seamless mobility to cities worldwide. Before joining moovel, Adam worked as a senior project manager at the IBI Group, where he provided expertise in the area of fare payment and customer service.",
            "count": 1
           },
           {
            "name": "Promon Engenharia provides complete solutions for the entire project life cycle, from conception and implementation through to operation.Its capacity to implement complex, state-of-the-art projects in engineering, management, processes and tools make Promon a benchmark in the market, attested by the long-term relationships it maintains with clients in multiple sectors. A Promon Engenharia tem soluções completas para todo o ciclo de vida de um projeto. Nossos serviços abrangem Consultoria, Engenharia, Digitalização, Gerenciamento e Integração. Conheça um pouco mais sobre a qualidade e a eficiência que nossas soluções podem trazer para o seu negócio. Promon Engenharia Ltda provides engineering services. The Company focuses on design, integration, and implementation of infrastructure solutions for customers in electric power, oil and gas, and ... An (un)common company . The story begins in December 1960, when a group of young professionals gets together to found Promon Engenharia, a company resulting from the alliance between the North American company Procon and the Brazilian operation Montreal Montagem e Representação Industrial. Promon S/A | Engenharia, Tecnologia da Informação e Comunicação, Desenvolvimento de Negócios. Fundamentado nos nossos valores e ideais, o exercício da liderança na organização apoia-se no estímulo e valorização da participação de todos os profissionais na vida da empresa, buscando despertar em cada um o senso de pertencer à comunidade Promon. photo: Promon archives. In the onshore segment, our portfolio includes services for twelve of the thirteen Brazilian oil and natural gas refining and processing units, as well as storage terminals, oil and gas pipelines and city gates. We execute feasibility studies, engineering plans and EPC (Engineering, Procurement and Construction) contracts. A Promon é uma comunidade de profissionais estruturada com base no conhecimento Um dos instrumentos para avaliar a sua performance é a Avaliação de Desempenho que, por meio da metodologia 360°, permite que você faça sua avaliação e seja avaliado por sua chefia, pares e subordinados. Todos os dados da empresa Promon Engenharia LTDA com CNPJ 61.095.923/0045-80 - 61095923004580 de São Paulo/SP. Endereço, Sócios, Situação, CNAE(s), Data de Abertura... Todos os dados da empresa Promon Engenharia LTDA com CNPJ 61.095.923/0018-07 - 61095923001807 de Vitória/ES. Telefone, E-mail, Endereço, Sócios, Situação, CNAE(s), Data de Abertura... PROMON ENGENHARIA LTDA. EXECUTIVE BOARD . Carlos Alberto M. Pingarilh. Director . Paulo Antônio Arouca. Director. PROMON-LOGICALIS LATIN AMERICA LIMITED. BOARD OF DIRECTORS . Jens Montanana. Chairman of the Board (Logicalis) Carlos Alberto M. Pingarilho (Promon) Luiz Fernando T. Rudge (Promon) Márcio Nieblas Zapater PROMON ENGENHARIA LTDA. EXECUTIVE DIRECTION . Luís Eduardo Sym Cardoso. Director . Fábio Bittencourt R. de Oliveira. Director . Hélio Mazzilli Xavier de Mendonça. Director. PROMON-LOGICALIS LATIN AMERICA LIMITED. BOARD OF DIRECTORS . Jens Montanana. Chairman of the Board (Logicalis) As conquistas da PromonLogicalis resultam de sua capacidade consultiva, da utilização inovadora de tecnologia e engenharia de sistemas, de suas alianças tecnológicas de ponta e da reconhecida qualificação em gerenciamento de projetos, fazendo da execução impecável um de seus principais diferenciais. Promon Engenharia Ltda. (Promon Engenharia) Get all the information about Promon Engenharia Ltda. (Promon Engenharia), a company operating mainly in the Infrastructure sector. Connect with its key ... Promon Engenharia é uma empresa de engenharia brasileira fundada em 1960 que faz parte do Grupo Promon. [1]Atua no setores de energia elétrica, indústrias de processo e manufatura, infraestrutura e edificações especiais, meio ambiente, mineração e metalurgia, petróleo e gás, química e petroquímica. [1]A empresa tem mais de 56 anos de atuação com grandes construções industriais ... PROMON ENGENHARIA LTDA. DIREÇÃO EXECUTIVA . Luís Eduardo Sym Cardoso. Diretor . Fábio Bittencourt R. de Oliveira. Diretor . Hélio Mazzilli Xavier de Mendonça. Diretor. PROMON-LOGICALIS LATIN AMERICA LIMITED. CONSELHO DE ADMINISTRAÇÃO . Jens Montanana. Presidente (Logicalis) Detalhes da empresa PROMON ENGENHARIA LTDA - cnpj 61.095.923/0001-69 - Endereço, telefone e email se diponível, setor de atuação, CNAE, atividade primária, quantidade de concorrentes. Sigma Lithium Resources Corp has appointed Promon Engenharia Ltda of Sao Paulo, Brazil, for the design and construction of Phase 1 of its Grota do Cirilo hard-rock lithium project in the country. Promon joins Primero Group of Australia as Sigma’s international engineering team for construction of the project. The announcement came at the same ... Promon Engenharia, São Paulo, Brazil. 3,556 likes · 38 talking about this · 759 were here. Bem-vindo à página oficial da Promon Engenharia ®2021 Promon Engenharia Ltda. Todos os direitos reservados. Log In. Ajuda; Navegador não suportado. Utilize o IE 9 ou superior. USUÁRIO. SENHA. PERFIL. Ponto eletrônico homologado nos termos da Portaria 373/2011.",
            "count": 1
           },
           {
            "name": "3 others",
            "count": 3
           }
          ]
         }
        },
        {
         "name": "cleaned_description",
         "dtype": "object",
         "stats": {
          "unique_count": 5,
          "nan_count": 0,
          "categories": [
           {
            "name": "moovel scalable solution allow transit agency implement new technology quickly building foundation achieve long term goal moovel mobility platform adaptable meet need city organization size need combining date mobile ticketing technology full suite moovel north america llc follower maas software service designed digitize mobile ticketing simplify back office operation transaction data fare collection moovel north america llc information provider mobile ticketing application service intended simplify travel experience city free open company data washington company moovel north america llc company number nw portland moovel north america originated acquisition merger two start ups ridescout based austin one company offer trip planning variety mobility option including transit rideshare bikeshare one app portland based globesherpa industry leader mobile ticketing solution moovel north america llc ridescout llc develops mobile application company offer application transportation sector moovel north america llc minnesota limited liability company foreign filed company filing status listed active file number registered agent file company national registered agent located dale n saint paul mn moovel north america llc business overview moovel north america llc business entity registered colorado department state cdos business entity number business office address located nw suite portland business formed company go name moovel north america llc company located baltimore md clayton mo cleveland oh dallas tx dover de glen allen va lawrenceville ga olympia wa phoenix az plantation fl portland saint paul mn topeka k wilmington de national registered agent k moovel n llc part moovel group gmbh enables seamless multimodal experience connected transit commerce mobile application led ceo nat parker moovel headquartered bram granovsky chief executive officer moovel north america llc bram granovsky compensation career history education membership masabi moovel north america llc moovel several others mta determined moovel offered advantageous proposal state recommended awarded contract mta notified masabi via letter moovel selected award moovel north america llc present month devops engineer phase year month portland oregon area design provision maintain cloud environment amazon web daimler exited transit technology business selling moovel north america portland based division sought remake urban transportation monday deal follows car go north america llc wholly owned subsidiary daimler north america corporation brand moovel gmbh offer innovative mobility solution rapidly growing urban area via moovel expected announce today creation subsidiary called moovel north america llc formed merger moovel austin tx based startup ridescout help user system method facilitating use physical token transit system disclosed one implementation method facilitating use physical token server includes generating token identifier generating using private key associated server cryptographic signature based token identifier san francisco municipal transportation agency contract moovel north america llc software development service munimobile smartphone ticketing application extend term agreement additional cost adam mcgavock currently serf director business development moovel north america transportation technology company working bring seamless mobility city worldwide joining moovel adam worked senior project manager ibi group provided expertise area fare payment customer service",
            "count": 1
           },
           {
            "name": "promon engenharia provides complete solution entire project life cycle conception implementation operation capacity implement complex state art project engineering management process tool promon benchmark market attested long term relationship maintains client multiple sector promon engenharia tem solu e completas para todo ciclo de vida de um projeto nossos servi o abrangem consultoria engenharia digitaliza gerenciamento integra conhe um pouco mais sobre qualidade efici ncia que nossas solu e podem trazer para seu neg cio promon engenharia ltda provides engineering service company focus design integration implementation infrastructure solution customer electric power oil gas un common company story begin group young professional get together found promon engenharia company resulting alliance north american company procon brazilian operation montreal montagem representa industrial promon engenharia tecnologia da informa comunica desenvolvimento de neg cio fundamentado no nossos valores ideais exerc cio da lideran na organiza apoia se est mulo valoriza da participa de todos o profissionais na vida da empresa buscando despertar em cada um senso de pertencer comunidade promon photo promon archive onshore segment portfolio includes service twelve thirteen brazilian oil natural gas refining processing unit well storage terminal oil gas pipeline gate execute feasibility study engineering plan epc engineering procurement construction contract promon uma comunidade de profissionais estruturada com base conhecimento um do instrumentos para avaliar sua performance avalia de desempenho que por meio da metodologia permite que voc fa sua avalia seja avaliado por sua chefia pares subordinados todos o dado da empresa promon engenharia ltda com cnpj de paulo sp endere cio situa cnae data de abertura todos o dado da empresa promon engenharia ltda com cnpj de vit ria e telefone mail endere cio situa cnae data de abertura promon engenharia ltda executive board carlos alberto pingarilh director paulo ant nio arouca director promon logicalis latin america limited board director jens montanana chairman board logicalis carlos alberto pingarilho promon luiz fernando rudge promon rcio nieblas zapater promon engenharia ltda executive direction lu eduardo sym cardoso director f bio bittencourt r de oliveira director h lio mazzilli xavier de mendon director promon logicalis latin america limited board director jens montanana chairman board logicalis conquistas da promonlogicalis resultam de sua capacidade consultiva da utiliza inovadora de tecnologia engenharia de sistemas de suas alian tecnol gicas de ponta da reconhecida qualifica em gerenciamento de projetos fazendo da execu impec vel um de seus principais diferenciais promon engenharia ltda promon engenharia information promon engenharia ltda promon engenharia company operating mainly infrastructure sector connect key promon engenharia uma empresa de engenharia brasileira fundada em que faz parte grupo promon atua setores de energia el trica ind stria de processo manufatura infraestrutura edifica e especiais meio ambiente minera metalurgia petr leo g qu mica petroqu mica empresa tem mais de ano de atua com grandes constru e industriais promon engenharia ltda dire executiva lu eduardo sym cardoso diretor f bio bittencourt r de oliveira diretor h lio mazzilli xavier de mendon diretor promon logicalis latin america limited conselho de administra jens montanana presidente logicalis detalhes da empresa promon engenharia ltda cnpj endere telefone email se dipon vel setor de atua cnae atividade prim ria quantidade de concorrentes sigma lithium resource corp appointed promon engenharia ltda sao paulo brazil design construction phase grota cirilo hard rock lithium project country promon join primero group australia sigma international engineering team construction project announcement came promon engenharia paulo brazil like talking bem vindo gina oficial da promon engenharia promon engenharia ltda todos o direitos reservados log ajuda navegador n suportado utilize ie ou superior usu rio senha perfil ponto eletr nico homologado no termos da portaria",
            "count": 1
           },
           {
            "name": "3 others",
            "count": 3
           }
          ]
         }
        },
        {
         "name": "_deepnote_index_column",
         "dtype": "int64"
        }
       ],
       "rows_top": [
        {
         "employers": "moovel north america, llc",
         "description": "moovel’s scalable solutions allow transit agencies to implement new technology quickly, while build…",
         "cleaned_description": "moovel scalable solution allow transit agency implement new technology quickly building foundation …",
         "_deepnote_index_column": 0
        },
        {
         "employers": "promon engenharia ltda.",
         "description": "Promon Engenharia provides complete solutions for the entire project life cycle, from conception an…",
         "cleaned_description": "promon engenharia provides complete solution entire project life cycle conception implementation op…",
         "_deepnote_index_column": 1
        },
        {
         "employers": "aller press a/s",
         "description": "Aller Media A/S Havneholmen 33 1561 København V Tlf: +45 72 34 20 00 Email: info@aller.dk CVR: 4332…",
         "cleaned_description": "aller medium havneholmen k benhavn v tlf email info aller dk cvr aller press vigerslev alle med tel…",
         "_deepnote_index_column": 2
        },
        {
         "employers": "teen librarian,rocky river public library",
         "description": "Megan Alabaugh Teen Librarian at Rocky River Public Library Rocky River, Ohio, United States 3 conn…",
         "cleaned_description": "megan alabaugh teen librarian rocky river public library rocky river ohio united state connection r…",
         "_deepnote_index_column": 3
        },
        {
         "employers": "executive director at vahera investments zimbabwe (2017-unknown)",
         "description": "Tadiwanashe Joy Pazvakavambwa | Zimbabwe | Executive Director at Tender Mutton Zimbabwe | 14 connec…",
         "cleaned_description": "tadiwanashe joy pazvakavambwa zimbabwe executive director tender mutton zimbabwe connection tadiwan…",
         "_deepnote_index_column": 4
        }
       ],
       "rows_bottom": null
      },
      "text/plain": "                                           employers  \\\n0                          moovel north america, llc   \n1                            promon engenharia ltda.   \n2                                    aller press a/s   \n3          teen librarian,rocky river public library   \n4  executive director at vahera investments zimba...   \n\n                                         description  \\\n0  moovel’s scalable solutions allow transit agen...   \n1  Promon Engenharia provides complete solutions ...   \n2  Aller Media A/S Havneholmen 33 1561 København ...   \n3  Megan Alabaugh Teen Librarian at Rocky River P...   \n4  Tadiwanashe Joy Pazvakavambwa | Zimbabwe | Exe...   \n\n                                 cleaned_description  \n0  moovel scalable solution allow transit agency ...  \n1  promon engenharia provides complete solution e...  \n2  aller medium havneholmen k benhavn v tlf email...  \n3  megan alabaugh teen librarian rocky river publ...  \n4  tadiwanashe joy pazvakavambwa zimbabwe executi...  ",
      "text/html": "<div>\n<style scoped>\n    .dataframe tbody tr th:only-of-type {\n        vertical-align: middle;\n    }\n\n    .dataframe tbody tr th {\n        vertical-align: top;\n    }\n\n    .dataframe thead th {\n        text-align: right;\n    }\n</style>\n<table border=\"1\" class=\"dataframe\">\n  <thead>\n    <tr style=\"text-align: right;\">\n      <th></th>\n      <th>employers</th>\n      <th>description</th>\n      <th>cleaned_description</th>\n    </tr>\n  </thead>\n  <tbody>\n    <tr>\n      <th>0</th>\n      <td>moovel north america, llc</td>\n      <td>moovel’s scalable solutions allow transit agen...</td>\n      <td>moovel scalable solution allow transit agency ...</td>\n    </tr>\n    <tr>\n      <th>1</th>\n      <td>promon engenharia ltda.</td>\n      <td>Promon Engenharia provides complete solutions ...</td>\n      <td>promon engenharia provides complete solution e...</td>\n    </tr>\n    <tr>\n      <th>2</th>\n      <td>aller press a/s</td>\n      <td>Aller Media A/S Havneholmen 33 1561 København ...</td>\n      <td>aller medium havneholmen k benhavn v tlf email...</td>\n    </tr>\n    <tr>\n      <th>3</th>\n      <td>teen librarian,rocky river public library</td>\n      <td>Megan Alabaugh Teen Librarian at Rocky River P...</td>\n      <td>megan alabaugh teen librarian rocky river publ...</td>\n    </tr>\n    <tr>\n      <th>4</th>\n      <td>executive director at vahera investments zimba...</td>\n      <td>Tadiwanashe Joy Pazvakavambwa | Zimbabwe | Exe...</td>\n      <td>tadiwanashe joy pazvakavambwa zimbabwe executi...</td>\n    </tr>\n  </tbody>\n</table>\n</div>"
     },
     "metadata": {}
    }
   ]
  },
  {
   "cell_type": "markdown",
   "source": "#### Read Industry Data\nNext, we read in the other dataset, which provides a description of 13 different industries.",
   "metadata": {
    "tags": [],
    "cell_id": "00011-db804d66-1502-4f98-8831-68039f5e2af5",
    "deepnote_cell_type": "markdown"
   }
  },
  {
   "cell_type": "code",
   "metadata": {
    "tags": [],
    "deepnote_to_be_reexecuted": false,
    "source_hash": "e6953a3",
    "execution_start": 1636182548844,
    "execution_millis": 19,
    "cell_id": "00006-43a6f89e-f46d-4e2f-9e01-a44043b30388",
    "deepnote_cell_type": "code"
   },
   "source": "# Reading in industry data\nindustry_data = pd.read_csv('industry_data.csv')",
   "execution_count": 6,
   "outputs": []
  },
  {
   "cell_type": "markdown",
   "source": "#### Preprocess Industry Data\nNow that we've read in this dataset, we'll use the same preprocessing function we already made to clean the descriptions of the industries.",
   "metadata": {
    "tags": [],
    "cell_id": "00013-1b07d086-d4ee-4b5a-8f6c-385a5a9598af",
    "deepnote_cell_type": "markdown"
   }
  },
  {
   "cell_type": "code",
   "metadata": {
    "tags": [],
    "deepnote_to_be_reexecuted": false,
    "source_hash": "eb972ceb",
    "execution_start": 1636182548897,
    "execution_millis": 376,
    "cell_id": "00007-246fb34f-2797-4695-b7bc-15cf0585e91f",
    "deepnote_cell_type": "code"
   },
   "source": "# Preprocessing industry data\nindustry_data['cleaned_description'] = industry_data['description'].apply(preprocess)",
   "execution_count": 7,
   "outputs": []
  },
  {
   "cell_type": "markdown",
   "source": "#### Set up Vectorizer\nWe've imported and cleaned all relevant data. Now, it's time to start transforming it into a more useable format. Step one: vectorize each desccription.\n\nWe decided to use CountVectorizer, rather than TFIDF. We tried both, and CountVecorizer seemed to yield better results than TFIDF. Specifically, since we're planning to use Latent Dirichlet Allocation (LDA), CountVectorizer is works better with LDA than TFIDF does, although the difference is admittedly not enormous.",
   "metadata": {
    "tags": [],
    "cell_id": "00015-8b5a37e3-99ea-43e7-abf3-a87ca2a17aae",
    "deepnote_cell_type": "markdown"
   }
  },
  {
   "cell_type": "code",
   "metadata": {
    "tags": [],
    "deepnote_to_be_reexecuted": false,
    "source_hash": "e51d0ccb",
    "execution_start": 1636182549296,
    "execution_millis": 8,
    "cell_id": "00009-516177ef-8645-4575-89bc-24de054b347a",
    "deepnote_cell_type": "code"
   },
   "source": "# Setting up vectorizer\n\n# We're using CountVectorizer because, from what I've read, it works better with LDA than tf_idf would\ncount_vectorizer = CountVectorizer(\n    preprocessor= None, # We already preprocessed the data\n    ngram_range=(1,1),\n    tokenizer=lambda s: s.split(),\n    min_df=2, \n    max_df=0.60  \n)",
   "execution_count": 8,
   "outputs": []
  },
  {
   "cell_type": "markdown",
   "source": "#### Fit Vectorizer to the Data\nHere, we combine the two datasets and fit the vectorizer to the entire corpus.",
   "metadata": {
    "tags": [],
    "cell_id": "00017-f79c3e62-1c05-4e43-843b-68833004f556",
    "deepnote_cell_type": "markdown"
   }
  },
  {
   "cell_type": "code",
   "metadata": {
    "tags": [],
    "deepnote_to_be_reexecuted": false,
    "source_hash": "52dc6a2b",
    "execution_start": 1636182549314,
    "execution_millis": 12331,
    "cell_id": "00012-e8cf4b37-4b03-4e75-9663-43e7d78f5058",
    "deepnote_cell_type": "code"
   },
   "source": "# Fitting vectorizer to all data\nall_descriptions = np.concatenate([industry_data['cleaned_description'].values, employer_data['cleaned_description'].values])\ncount_vectorizer.fit(all_descriptions);",
   "execution_count": 9,
   "outputs": [
    {
     "name": "stderr",
     "text": "/shared-libs/python3.7/py/lib/python3.7/site-packages/sklearn/feature_extraction/text.py:517: UserWarning: The parameter 'token_pattern' will not be used since 'tokenizer' is not None'\n  \"The parameter 'token_pattern' will not be used\"\n",
     "output_type": "stream"
    }
   ]
  },
  {
   "cell_type": "markdown",
   "source": "#### Create Industry Matrix\nNow, we can create a 20,000 row matrix, where each row is the vectorized version of the corresponding industry description.",
   "metadata": {
    "tags": [],
    "cell_id": "00019-92cd7df1-367f-4c36-914c-d015963e4e15",
    "deepnote_cell_type": "markdown"
   }
  },
  {
   "cell_type": "code",
   "metadata": {
    "tags": [],
    "deepnote_to_be_reexecuted": false,
    "source_hash": "4d70a971",
    "execution_start": 1636182561780,
    "execution_millis": 237,
    "cell_id": "00013-ecb11f30-81ea-436e-8821-40b90e5ec7fa",
    "deepnote_cell_type": "code"
   },
   "source": "# Creating industry matrix\nindustry_matrix = count_vectorizer.transform(industry_data['cleaned_description'].values)",
   "execution_count": 10,
   "outputs": []
  },
  {
   "cell_type": "markdown",
   "source": "#### Create Employer Matrix\nAs with the industry matrix, we also make a 13 row matrix, where each row is the vectorized version of the corresponding employer description.",
   "metadata": {
    "tags": [],
    "cell_id": "00021-f494057f-0c26-4317-ae07-e7108d21256c",
    "deepnote_cell_type": "markdown"
   }
  },
  {
   "cell_type": "code",
   "metadata": {
    "tags": [],
    "deepnote_to_be_reexecuted": false,
    "source_hash": "aa80c972",
    "execution_start": 1636182562028,
    "execution_millis": 14367,
    "cell_id": "00014-46aad9db-38e3-4f92-8b9b-b48f7938b0a6",
    "deepnote_cell_type": "code"
   },
   "source": "# Creating employer matrix\nemployer_matrix = count_vectorizer.transform(employer_data['cleaned_description'].values)",
   "execution_count": 11,
   "outputs": []
  },
  {
   "cell_type": "markdown",
   "source": "#### Set up LDA\nNow that we have vectorized versions of the company and industry descriptions, we will use Latent Dirichlet Allocation (LDA) to identify 30 topics discussed in these descriptions and determine how strongly each description matches each topic.",
   "metadata": {
    "tags": [],
    "cell_id": "00023-29a530a8-8d33-452b-9a7e-5be9e4595e3e",
    "deepnote_cell_type": "markdown"
   }
  },
  {
   "cell_type": "code",
   "metadata": {
    "tags": [],
    "deepnote_to_be_reexecuted": false,
    "source_hash": "f7c44156",
    "execution_start": 1636182576398,
    "execution_millis": 13,
    "cell_id": "00015-be073d33-78d3-4cfd-b144-053971caecff",
    "deepnote_cell_type": "code"
   },
   "source": "# Setting up LDA\nlda = LatentDirichletAllocation(\n    n_components=30\n)",
   "execution_count": 12,
   "outputs": []
  },
  {
   "cell_type": "markdown",
   "source": "#### Fit LDA to the Data\nAs with the CountVectorizer, we will use the entire corpus, including both datasets, to fit LDA.",
   "metadata": {
    "tags": [],
    "cell_id": "00025-a715d9e1-d9fc-4eea-8cd2-81d2ddc518f1",
    "deepnote_cell_type": "markdown"
   }
  },
  {
   "cell_type": "code",
   "metadata": {
    "tags": [],
    "deepnote_to_be_reexecuted": false,
    "source_hash": "1a896196",
    "execution_start": 1636182576413,
    "execution_millis": 1331658,
    "cell_id": "00017-77998c6b-0307-42a1-ab7c-ef8cb842e134",
    "deepnote_cell_type": "code"
   },
   "source": "all_vectors = count_vectorizer.transform(all_descriptions)\nlda.fit(all_vectors)",
   "execution_count": null,
   "outputs": []
  },
  {
   "cell_type": "markdown",
   "source": "#### Transform and Classify Each Employer\nNow, all that remains to be done is to use LDA to transform the industry and employer matrices, and then compare each employer to each industry. For a particular employer, whichever industry it most closely matches will be the model's prediction.",
   "metadata": {
    "tags": [],
    "cell_id": "00027-d5b6274f-985e-4101-8e53-65673e634018",
    "deepnote_cell_type": "markdown"
   }
  },
  {
   "cell_type": "code",
   "metadata": {
    "tags": [],
    "deepnote_to_be_reexecuted": true,
    "source_hash": "f8efb02d",
    "execution_start": 1636160094435,
    "execution_millis": 120923,
    "cell_id": "00019-44a69f76-f905-4944-aa12-7e0a9b1a3203",
    "deepnote_cell_type": "code"
   },
   "source": "industry_topics = lda.transform(industry_matrix)\n\nemployer_topics = lda.transform(employer_matrix)\n\nindustry_names = industry_data[\"industry\"].values\n\nindustry_prediction = []\nfor employer_vec in employer_topics:\n    distances = []\n    for industry_vec in industry_topics:\n        #Look at how close the company topics are from the industry\n        distances.append(np.linalg.norm(industry_vec - employer_vec))\n    #Pick the closest company\n    best_industry_index = np.argmin(distances)\n    industry_prediction.append(industry_names[best_industry_index])\n\n\nemployer_data[\"industry_prediction\"] = industry_prediction",
   "execution_count": null,
   "outputs": []
  },
  {
   "cell_type": "markdown",
   "source": "#### Examine Predictions\nWith our predictions generated, we're finished!",
   "metadata": {
    "tags": [],
    "cell_id": "00029-9c49dad1-ee41-40b7-ae83-903a72bcac4c",
    "deepnote_cell_type": "markdown"
   }
  },
  {
   "cell_type": "code",
   "metadata": {
    "tags": [],
    "deepnote_to_be_reexecuted": true,
    "source_hash": "93fab64a",
    "execution_start": 1636160215359,
    "execution_millis": 55,
    "cell_id": "00020-a7a4e3d1-91c8-4dc1-afd0-a277949b9945",
    "deepnote_cell_type": "code"
   },
   "source": "predictions = employer_data[['employers', 'description', 'industry_prediction']]\npredictions.sample(20)",
   "execution_count": null,
   "outputs": [
    {
     "output_type": "execute_result",
     "execution_count": 15,
     "data": {
      "application/vnd.deepnote.dataframe.v2+json": {
       "row_count": 20,
       "column_count": 3,
       "columns": [
        {
         "name": "employers",
         "dtype": "object",
         "stats": {
          "unique_count": 20,
          "nan_count": 0,
          "categories": [
           {
            "name": "gold canyon candles llc",
            "count": 1
           },
           {
            "name": "universal logistics solutions canada",
            "count": 1
           },
           {
            "name": "18 others",
            "count": 18
           }
          ]
         }
        },
        {
         "name": "description",
         "dtype": "object",
         "stats": {
          "unique_count": 20,
          "nan_count": 0,
          "categories": [
           {
            "name": "Gold Canyon Lady may not have the same ring as Avon Lady or Tupperware Lady but it's the same basic idea. Gold Canyon International is a multi-level marketer with 25,000 distributors selling candles, room spray, home decor, cleaning products, and skin care products in the US, UK, and Canada. This organization is not BBB accredited. Wholesale Candles in Chandler, AZ. See BBB rating, reviews, complaints, & more. What Happened to Gold Canyon Candles? For those that were in as executives at the end, March 12 will be a day that we will never forget. 2 pm in the afternoon we were sent an email that Gold Canyon LLC was no longer in business for lack of funds. Gold Canyon International LLC. Gold Canyon International, L.L.C. provides home decoration and personal care products. The Company offers wickless scents, candles, and other home decor accessories ... Gold Canyon - Mini 5 oz. Cinnamon Pinecones Heritage Scented Single-Wick Candle, Diamond-Light Glass Jar. $12.99. $12. . 99. Get it as soon as Sat, Aug 28. FREE Shipping on orders over $25 shipped by Amazon. Only 17 left in stock - order soon. Gold Canyon Candles LLC manufactures candles and fragrance products. Its products include decorative accessories and personal care products. The company was founded by Curt Waisath and Karen Waisath in 1997 and is headquartered in Chandler, AZ. Pros. They had good smelling candles. Cons. After talking us all into getting websites and so forth, we get an e-mail saying the company is closed. No notice, all websites are closed, nothing. No news about how to get our credits for product, nothing. Continue reading. 4 people found this review helpful. CFO/COO at Gold Canyon Candle, LLC Scottsdale, Arizona, United States 2 connections. Join to Connect Gold Canyon Candle, LLC. UCLA Anderson School of Management. Report this profile ... Gold Canyon Candles, LLC began as a dream of Karen Waisath and has now become the dream of many demonstrators who realize they too can achieve financial independence. I. Experience GOLD CANYON CANDLE CO LLC #Candle Holder #Wick #Trimmer. 3.1 / 5. 5. Verified trades. 3. Verified suppliers. 45%. Verified reorders. Top 10 Suppliers. BEST TREND INTERNATIONAL INC China (mainland) 4.6 / 5. Xwmth Eoeiptfwsp Cs.,gcb upgrade now China (mainland) 2.5 / 5. DG CITY LANDSUN PLASTIC & ELECT. Hong Kong. 3.1 / 5. Supplier locations Gold canyon candles. 25 likes. Website Gold Canyon Candles LLC manufactures candles and fragrance products. Its products include decorative accessories and personal care products. The company was founded by Curt Waisath and Karen Waisath in 1997 and is headquartered in Chandler, AZ. Business Directory of Arizona. Gold Canyon Candles, Llc ... ← GOLD CANYON BUSINESS DIRECTORY GOLD CANYON COMPUTER REPAIR LLC → Gold Canyon International, LLC, the world’s foremost expert on specialty fragranced products and styled accessories, announced today the appointment of its new President and CEO, A.K. Khalil. President and CEO of Gold Canyon International A.K. Khalil. “If I had one word to describe A.K. Khalil, it would be pure energy.”. Best long lasting scented candles. Sunset Scents a RAY of Fragrance Brings you great quality candles into homes, offices, or other work areas - Made in the USA. Lighting Up Lives, One Spark at a Time! Whether you are looking to experience the finest in home fragrances by hosting a Scent mixer, or create an extraordinary income for your family, Gold Canyon and Savvy Scents Candles have the opportunity that's right for you! https://goo.gl/HdzlBJ Develop your Gold Canyon Candle Co business venture fast using this 5 step blueprint. Generate a lot more qualified prospects, sign up... 8 Gold Canyon Candles reviews. A free inside look at company reviews and salaries posted anonymously by employees. Candle Mayhem, a new company based in Phoenix, Arizona, is a new candle company to watch for, as it produces a wide range of scented candles that are made of 100% soy wax and essential oils like Gold Canyon’s candle. The company representative, Mya Warren, explained, “Our candle products are made of 100% natural wax ingredients, and it is ...",
            "count": 1
           },
           {
            "name": "Speed. Accuracy. Consistency Universal Logistics Solutions Delivery on time, every day. We are the logistics company you can rely on for safe, fast and secure delivery. View Our Services Contact us today Rated 5/5 CarTotal Load Weight: 250 lbsSize: 3' x 3' x 2' ft Truck Total Load Weight: 1800 lbsSize: 4' x 6' x […] As such, Universal Logistics Canada and Universal Logistics USA will continue to be in full operation. BORDER UPDATES: China Crackdown on Shoddy PPE Exports Pushing Air Cargo Rates Even Higher (Ciffa, April 28, 2020) A Beijing crackdown on shoddy medical exports has led to surging air cargo costs and congestion in South China. Universal Logistics Solutions Canada Ltd is a licensed and bonded freight shipping and trucking company running freight hauling business from Windsor, Ontario. Universal Logistics Solutions Canada Ltd USDOT number is 2790108. Universal Logistics Solutions Canada Ltd is trucking company providing freight transportation services and hauling cargo. UNIVERSAL LOGISTICS SOLUTIONS CANADA LTD. DBA Name: Physical Address: 4285 INDUSTRIAL DRIVE. WINDSOR, ON N9C 3R9. Phone: (800) 233-9445. Mailing Address: 12341 EAST NINE MILE ROAD. UNIVERSAL LOGISTICS SOLUTIONS CANADA LTD is a Hazmat certified freight shipping Broker from WINDSOR, ON. Company USDOT number is 2790108 and docket number is 930536. Transportation Services provided: Vans, Flatbed, Hazmat, Tankers Universal Logistics Inc. 125 Commerce Valley Drive West, Suite 750 Thornhill, Ontario L3T 7W4 Canada Telephone: (905) 882-4880 Fax: (905) 882-2250 View Map Tracking your freight shipment is quick and easy with the PARS Tracker, available for clients who use the customs brokerage services offered by Universal Logistics, a trusted provider of clearance and compliance services for clients in Canada and the U.S. Universal Logistics Holdings, Inc. Universal Logistics Holdings is a full-service provider of customized transportation and logistics solutions. For over 80 years, we have provided complete services including dry van and specialized transportation, intermodal drayage, material handling and value-added services, and global trade management. Universal Logistics Solutions Canada, Inc. Listed below are our minumum requirements that must be met to be qualified as a Carrier for Universal. If all are not met today, you may return at a later date to reapply. Provide a valid MC/MX or USDOT number. Intrastate Carriers without a DOT may supply an applicable state registration number. Universal Logistics Bergen AS. Universal Logistics Bergen AS was founded in 2012 to have a local service and serve an increasing demand from our customers in Bergen. We provide transportation within sea , air, road and train. Have own customs warehouse and performs all within customs- and forwarding services. Universal Logistics Inc. 125 Commerce Valley Dr. W., Suite 750 Thornhill, Ontario L3T 7W4 Telephone: (905) 882-4880 Fax: (905) 882-2250 Other company locations Company Management Discover why it pays to have your next freight shipment cleared by the customs brokerage professionals at Universal Logistics, a full service logistics management company, based in Toronto, Canada. Universal Logistics Solutions International. Universal Logistics Solutions International, Inc., ® formerly known as Central Global Express, is a leader in worldwide freight forwarding and transportation services. We specialize in the time-definite movement of domestic and international air, ocean (NVOCC), customs clearance and ground ... Universal Logistics Solutions | 247 followers on LinkedIn. Logistics Solution Provider | Looking for smart courier services for fast deliveries. We are the logistics company you can trust for safe and fast delivery. Same day and next day delivery. PAY- $41,600 salary plus bonus. As a Freight Broker at Universal, your goal is to help customers move their inventory in the most cost-effective way by identifying and providing logistics solutions. You will have the opportunity to build solid relationships with carriers and manage your individual carrier base while working in a team environment. Universal Logistics Solutions, Inc. 12755 E 9 Mile Rd. Warren MI 48089. Reviews. (586) 939-7000 Website. Menu & Reservations. Make Reservations. As a third-party logistics provider with our own assets, the equipment and technology we have access to means our experts are able to swiftly manage shipments to deliver freight reliably, every time. We leverage the best technology platforms to ensure efficient, economic solutions with our trusted group of carrier partners. Universal Logistics. 1555 S. Franklin Road. Indianapolis, IN 46239 (317) 359-1387. ... *In Canada, trademark(s) of the International Association of Better Business Bureaus, used under License. ...",
            "count": 1
           },
           {
            "name": "18 others",
            "count": 18
           }
          ]
         }
        },
        {
         "name": "industry_prediction",
         "dtype": "object",
         "stats": {
          "unique_count": 8,
          "nan_count": 0,
          "categories": [
           {
            "name": "Media and Entertainment",
            "count": 5
           },
           {
            "name": "Manufacturing",
            "count": 4
           },
           {
            "name": "6 others",
            "count": 11
           }
          ]
         }
        },
        {
         "name": "_deepnote_index_column",
         "dtype": "int64"
        }
       ],
       "rows_top": [
        {
         "employers": "gold canyon candles llc",
         "description": "Gold Canyon Lady may not have the same ring as Avon Lady or Tupperware Lady but it's the same basic…",
         "industry_prediction": "Manufacturing",
         "_deepnote_index_column": 3801
        },
        {
         "employers": "universal logistics solutions canada",
         "description": "Speed. Accuracy. Consistency Universal Logistics Solutions Delivery on time, every day. We are the …",
         "industry_prediction": "Real Estate and Construction",
         "_deepnote_index_column": 6820
        },
        {
         "employers": "modern video film",
         "description": "Nine noble families fight for control over the lands of Westeros, while an ancient enemy returns af…",
         "industry_prediction": "Media and Entertainment",
         "_deepnote_index_column": 7540
        },
        {
         "employers": "signpost,",
         "description": "Customer communication software for Signpost helps home service businesses attract, connect with, a…",
         "industry_prediction": "Media and Entertainment",
         "_deepnote_index_column": 517
        },
        {
         "employers": "national petroleum services company",
         "description": "National Petroleum Services Company – NPSC, is a leading Iraqi owned and operated company servicing…",
         "industry_prediction": "Energy and Utilities",
         "_deepnote_index_column": 8844
        },
        {
         "employers": "jbt corporation",
         "description": "JBT Corporation 2020 Annual Report. View Report. JBT Welcomes Prevenio to the Family! Learn More Vi…",
         "industry_prediction": "Manufacturing",
         "_deepnote_index_column": 3087
        },
        {
         "employers": "other - acuris global",
         "description": "Acuris Find your advantage. The Acuris Difference: We drive value for our subscriber by putting rel…",
         "industry_prediction": "Manufacturing",
         "_deepnote_index_column": 16231
        },
        {
         "employers": "ncsoft (do not call this employer)",
         "description": "Unrealistic expectations and workload. Employee (Current Employee) - Austin, TX - October 13, 2015.…",
         "industry_prediction": "Media and Entertainment",
         "_deepnote_index_column": 6390
        },
        {
         "employers": "cyberplex",
         "description": "CyberPlex Technology Training was established to \"level the playing field\" by providing DFW's under…",
         "industry_prediction": "Media and Entertainment",
         "_deepnote_index_column": 15606
        },
        {
         "employers": "escape above spa and yoga lounge",
         "description": "COVID update: Hudavi Wellness has updated their hours and services. 228 reviews of Hudavi Wellness …",
         "industry_prediction": "Computer and Electronics",
         "_deepnote_index_column": 19375
        },
        {
         "employers": "g.t. reilly & company",
         "description": "G.T. Reilly & Company is an independent member firm of Moore North America, which is itself a regio…",
         "industry_prediction": "Business Services",
         "_deepnote_index_column": 14087
        },
        {
         "employers": "ineos composites (subsidiary of ineos americas)",
         "description": "INEOS Composites manufactures and sells a broad range of general-purpose and high-performance grade…",
         "industry_prediction": "Manufacturing",
         "_deepnote_index_column": 6921
        },
        {
         "employers": "united states air force",
         "description": "Department of the Air Force leaders talk leadership, family during panel at AFA; Growing the Flower…",
         "industry_prediction": "Energy and Utilities",
         "_deepnote_index_column": 16123
        },
        {
         "employers": "centenary college of louisiana",
         "description": "Centenary graduates are well-prepared for medical and other professional schools with rigorous cour…",
         "industry_prediction": "Education",
         "_deepnote_index_column": 13462
        },
        {
         "employers": "marketing department coordinator at ctam (2004-2005)",
         "description": "Marketing Department Coordinator CTAM Apr 2004 - Nov 2005 1 year 8 months. Alexandria, VA • Assista…",
         "industry_prediction": "Business Services",
         "_deepnote_index_column": 8655
        },
        {
         "employers": "pepsi-cola a/o",
         "description": "PepsiCo’s 2020 Sustainability Report. Learn how we made progress in 2020 toward our goals to help b…",
         "industry_prediction": "Business Services",
         "_deepnote_index_column": 421
        },
        {
         "employers": "mazaree al sham meat tr",
         "description": "Mazaree Al Sham Butcher Shop – Fresh Meat – Grilled Menu in Dubai. We have dine-in restaurants and …",
         "industry_prediction": "Computer and Electronics",
         "_deepnote_index_column": 17728
        },
        {
         "employers": "bpm-d",
         "description": "BPM-D Academy. BPM-D Academy consists of 20 educational experiences centred around Repurposing Proc…",
         "industry_prediction": "Energy and Utilities",
         "_deepnote_index_column": 9696
        },
        {
         "employers": "chase bank",
         "description": "\"Chase Private Client\" is the brand name for a banking and investment product and service offering,…",
         "industry_prediction": "Financial Services",
         "_deepnote_index_column": 7845
        },
        {
         "employers": "pandora media, inc. / pandora",
         "description": "‎Download apps by Pandora Media, Inc., including Pandora: Music & Podcasts. Play the songs, albums,…",
         "industry_prediction": "Media and Entertainment",
         "_deepnote_index_column": 7302
        }
       ],
       "rows_bottom": null
      },
      "text/plain": "                                               employers  \\\n3801                             gold canyon candles llc   \n6820                universal logistics solutions canada   \n7540                                   modern video film   \n517                                            signpost,   \n8844                 national petroleum services company   \n3087                                     jbt corporation   \n16231                              other - acuris global   \n6390                  ncsoft (do not call this employer)   \n15606                                          cyberplex   \n19375                   escape above spa and yoga lounge   \n14087                              g.t. reilly & company   \n6921     ineos composites (subsidiary of ineos americas)   \n16123                            united states air force   \n13462                     centenary college of louisiana   \n8655   marketing department coordinator at ctam (2004...   \n421                                       pepsi-cola a/o   \n17728                            mazaree al sham meat tr   \n9696                                               bpm-d   \n7845                                          chase bank   \n7302                       pandora media, inc. / pandora   \n\n                                             description  \\\n3801   Gold Canyon Lady may not have the same ring as...   \n6820   Speed. Accuracy. Consistency Universal Logisti...   \n7540   Nine noble families fight for control over the...   \n517    Customer communication software for Signpost h...   \n8844   National Petroleum Services Company – NPSC, is...   \n3087   JBT Corporation 2020 Annual Report. View Repor...   \n16231  Acuris Find your advantage. The Acuris Differe...   \n6390   Unrealistic expectations and workload. Employe...   \n15606  CyberPlex Technology Training was established ...   \n19375  COVID update: Hudavi Wellness has updated thei...   \n14087  G.T. Reilly & Company is an independent member...   \n6921   INEOS Composites manufactures and sells a broa...   \n16123  Department of the Air Force leaders talk leade...   \n13462  Centenary graduates are well-prepared for medi...   \n8655   Marketing Department Coordinator CTAM Apr 2004...   \n421    PepsiCo’s 2020 Sustainability Report. Learn ho...   \n17728  Mazaree Al Sham Butcher Shop – Fresh Meat – Gr...   \n9696   BPM-D Academy. BPM-D Academy consists of 20 ed...   \n7845   \"Chase Private Client\" is the brand name for a...   \n7302   ‎Download apps by Pandora Media, Inc., includi...   \n\n                industry_prediction  \n3801                  Manufacturing  \n6820   Real Estate and Construction  \n7540        Media and Entertainment  \n517         Media and Entertainment  \n8844           Energy and Utilities  \n3087                  Manufacturing  \n16231                 Manufacturing  \n6390        Media and Entertainment  \n15606       Media and Entertainment  \n19375      Computer and Electronics  \n14087             Business Services  \n6921                  Manufacturing  \n16123          Energy and Utilities  \n13462                     Education  \n8655              Business Services  \n421               Business Services  \n17728      Computer and Electronics  \n9696           Energy and Utilities  \n7845             Financial Services  \n7302        Media and Entertainment  ",
      "text/html": "<div>\n<style scoped>\n    .dataframe tbody tr th:only-of-type {\n        vertical-align: middle;\n    }\n\n    .dataframe tbody tr th {\n        vertical-align: top;\n    }\n\n    .dataframe thead th {\n        text-align: right;\n    }\n</style>\n<table border=\"1\" class=\"dataframe\">\n  <thead>\n    <tr style=\"text-align: right;\">\n      <th></th>\n      <th>employers</th>\n      <th>description</th>\n      <th>industry_prediction</th>\n    </tr>\n  </thead>\n  <tbody>\n    <tr>\n      <th>3801</th>\n      <td>gold canyon candles llc</td>\n      <td>Gold Canyon Lady may not have the same ring as...</td>\n      <td>Manufacturing</td>\n    </tr>\n    <tr>\n      <th>6820</th>\n      <td>universal logistics solutions canada</td>\n      <td>Speed. Accuracy. Consistency Universal Logisti...</td>\n      <td>Real Estate and Construction</td>\n    </tr>\n    <tr>\n      <th>7540</th>\n      <td>modern video film</td>\n      <td>Nine noble families fight for control over the...</td>\n      <td>Media and Entertainment</td>\n    </tr>\n    <tr>\n      <th>517</th>\n      <td>signpost,</td>\n      <td>Customer communication software for Signpost h...</td>\n      <td>Media and Entertainment</td>\n    </tr>\n    <tr>\n      <th>8844</th>\n      <td>national petroleum services company</td>\n      <td>National Petroleum Services Company – NPSC, is...</td>\n      <td>Energy and Utilities</td>\n    </tr>\n    <tr>\n      <th>3087</th>\n      <td>jbt corporation</td>\n      <td>JBT Corporation 2020 Annual Report. View Repor...</td>\n      <td>Manufacturing</td>\n    </tr>\n    <tr>\n      <th>16231</th>\n      <td>other - acuris global</td>\n      <td>Acuris Find your advantage. The Acuris Differe...</td>\n      <td>Manufacturing</td>\n    </tr>\n    <tr>\n      <th>6390</th>\n      <td>ncsoft (do not call this employer)</td>\n      <td>Unrealistic expectations and workload. Employe...</td>\n      <td>Media and Entertainment</td>\n    </tr>\n    <tr>\n      <th>15606</th>\n      <td>cyberplex</td>\n      <td>CyberPlex Technology Training was established ...</td>\n      <td>Media and Entertainment</td>\n    </tr>\n    <tr>\n      <th>19375</th>\n      <td>escape above spa and yoga lounge</td>\n      <td>COVID update: Hudavi Wellness has updated thei...</td>\n      <td>Computer and Electronics</td>\n    </tr>\n    <tr>\n      <th>14087</th>\n      <td>g.t. reilly &amp; company</td>\n      <td>G.T. Reilly &amp; Company is an independent member...</td>\n      <td>Business Services</td>\n    </tr>\n    <tr>\n      <th>6921</th>\n      <td>ineos composites (subsidiary of ineos americas)</td>\n      <td>INEOS Composites manufactures and sells a broa...</td>\n      <td>Manufacturing</td>\n    </tr>\n    <tr>\n      <th>16123</th>\n      <td>united states air force</td>\n      <td>Department of the Air Force leaders talk leade...</td>\n      <td>Energy and Utilities</td>\n    </tr>\n    <tr>\n      <th>13462</th>\n      <td>centenary college of louisiana</td>\n      <td>Centenary graduates are well-prepared for medi...</td>\n      <td>Education</td>\n    </tr>\n    <tr>\n      <th>8655</th>\n      <td>marketing department coordinator at ctam (2004...</td>\n      <td>Marketing Department Coordinator CTAM Apr 2004...</td>\n      <td>Business Services</td>\n    </tr>\n    <tr>\n      <th>421</th>\n      <td>pepsi-cola a/o</td>\n      <td>PepsiCo’s 2020 Sustainability Report. Learn ho...</td>\n      <td>Business Services</td>\n    </tr>\n    <tr>\n      <th>17728</th>\n      <td>mazaree al sham meat tr</td>\n      <td>Mazaree Al Sham Butcher Shop – Fresh Meat – Gr...</td>\n      <td>Computer and Electronics</td>\n    </tr>\n    <tr>\n      <th>9696</th>\n      <td>bpm-d</td>\n      <td>BPM-D Academy. BPM-D Academy consists of 20 ed...</td>\n      <td>Energy and Utilities</td>\n    </tr>\n    <tr>\n      <th>7845</th>\n      <td>chase bank</td>\n      <td>\"Chase Private Client\" is the brand name for a...</td>\n      <td>Financial Services</td>\n    </tr>\n    <tr>\n      <th>7302</th>\n      <td>pandora media, inc. / pandora</td>\n      <td>‎Download apps by Pandora Media, Inc., includi...</td>\n      <td>Media and Entertainment</td>\n    </tr>\n  </tbody>\n</table>\n</div>"
     },
     "metadata": {}
    }
   ]
  },
  {
   "cell_type": "markdown",
   "source": "# Task 2:the word vector representation, how do you think this model performs compare to the others. Create a embeddings representation of each industry using spacy and find the closest industry using doc_1.similarity(industry_1)",
   "metadata": {
    "tags": [],
    "is_collapsed": false,
    "cell_id": "00031-13fc500d-3e1a-4013-aae2-ee0edb54e082",
    "deepnote_cell_type": "text-cell-h1"
   }
  },
  {
   "cell_type": "code",
   "source": "nlp = spacy.load(\"en_core_web_sm\", disable=[\"parser\", \"ner\"]) #get the word embedding model",
   "metadata": {
    "tags": [],
    "cell_id": "00032-a5c50c6b-e7bd-4de3-beca-77ab08b54ddc",
    "deepnote_to_be_reexecuted": true,
    "source_hash": "e838af98",
    "execution_start": 1636182397908,
    "execution_millis": 712,
    "deepnote_cell_type": "code"
   },
   "outputs": [
    {
     "output_type": "error",
     "ename": "NameError",
     "evalue": "name 'spacy' is not defined",
     "traceback": [
      "\u001b[0;31m---------------------------------------------------------------------------\u001b[0m",
      "\u001b[0;31mNameError\u001b[0m                                 Traceback (most recent call last)",
      "\u001b[0;32m<ipython-input-1-917f7f771ad0>\u001b[0m in \u001b[0;36m<module>\u001b[0;34m\u001b[0m\n\u001b[0;32m----> 1\u001b[0;31m \u001b[0mnlp\u001b[0m \u001b[0;34m=\u001b[0m \u001b[0mspacy\u001b[0m\u001b[0;34m.\u001b[0m\u001b[0mload\u001b[0m\u001b[0;34m(\u001b[0m\u001b[0;34m\"en_core_web_sm\"\u001b[0m\u001b[0;34m,\u001b[0m \u001b[0mdisable\u001b[0m\u001b[0;34m=\u001b[0m\u001b[0;34m[\u001b[0m\u001b[0;34m\"parser\"\u001b[0m\u001b[0;34m,\u001b[0m \u001b[0;34m\"ner\"\u001b[0m\u001b[0;34m]\u001b[0m\u001b[0;34m)\u001b[0m \u001b[0;31m#get the word embedding model\u001b[0m\u001b[0;34m\u001b[0m\u001b[0;34m\u001b[0m\u001b[0m\n\u001b[0m",
      "\u001b[0;31mNameError\u001b[0m: name 'spacy' is not defined"
     ]
    }
   ],
   "execution_count": null
  },
  {
   "cell_type": "code",
   "source": "#getting the top 15 words from the industry\ntop_n = 15\nwords = np.array(tfidf_vec.get_feature_names())\nindustry_top_words = []\nfor i in range(tfidf_industry_matrix.shape[0]):\n    # Will get the words that are in the TFIDF which have the higher score\n    # We use -tfidf_industry_matrix because the order is ascending\n    s = np.argsort(np.asarray(-tfidf_industry_matrix[i, :].todense()).flatten())\n    industry_top_words.append(\" \".join(words[s[:top_n]]))",
   "metadata": {
    "tags": [],
    "cell_id": "00033-d5ebe81a-d129-418f-8788-8054eabd1a1a",
    "deepnote_to_be_reexecuted": true,
    "source_hash": "61a276be",
    "deepnote_cell_type": "code"
   },
   "outputs": [],
   "execution_count": null
  },
  {
   "cell_type": "code",
   "source": "#getting the top 25 words from the employer\nemployer_top_words = []\nfor i in range(tfidf_employer_matrix.shape[0]):\n    s = np.argsort(np.asarray(-tfidf_employer_matrix[i, :].todense()).flatten())\n    employer_top_words.append(\" \".join(words[s[:top_n]]))",
   "metadata": {
    "tags": [],
    "cell_id": "00034-ee9f82f4-1586-4f27-8b1f-c90f99cd9e5e",
    "deepnote_to_be_reexecuted": true,
    "source_hash": "f2db0982",
    "deepnote_cell_type": "code"
   },
   "outputs": [],
   "execution_count": null
  },
  {
   "cell_type": "code",
   "source": "#finds the highest similarity between the topics and the employers using wordembedding similarity\nindustries = []\nindustry_embeddings = [nlp(industry) for industry in industry_top_words]\nfor employer in employer_top_words:\n    employer_doc = nlp(employer)\n    similarities = [employer_doc.similarity(industry) for industry in industry_embeddings]\n    industries.append(industry_names[np.argmax(similarities)])",
   "metadata": {
    "tags": [],
    "cell_id": "00035-7fddf0aa-69fd-4014-a847-6bf7e2aa778e",
    "deepnote_to_be_reexecuted": true,
    "source_hash": "5261cfec",
    "deepnote_cell_type": "code"
   },
   "outputs": [],
   "execution_count": null
  },
  {
   "cell_type": "code",
   "source": "employer_data[\"industry\"] = industries",
   "metadata": {
    "tags": [],
    "cell_id": "00036-cf6372af-65c6-46cb-9d9b-79232f9ed64d",
    "deepnote_to_be_reexecuted": true,
    "source_hash": "ccdbb17",
    "deepnote_cell_type": "code"
   },
   "outputs": [],
   "execution_count": null
  },
  {
   "cell_type": "code",
   "source": "employer_data",
   "metadata": {
    "tags": [],
    "cell_id": "00037-d2586607-ed03-47bf-b321-e03a91ffc032",
    "deepnote_to_be_reexecuted": true,
    "source_hash": "29521119",
    "deepnote_cell_type": "code"
   },
   "outputs": [],
   "execution_count": null
  },
  {
   "cell_type": "code",
   "source": "employer_data.to_csv('POSSIBLE_RESULTS.csv') # Check this when it finishes running to see the results",
   "metadata": {
    "tags": [],
    "cell_id": "00038-1b4b6827-ca10-47b7-9731-620e6946831c",
    "deepnote_to_be_reexecuted": true,
    "source_hash": "83e2352d",
    "deepnote_cell_type": "code"
   },
   "outputs": [],
   "execution_count": null
  },
  {
   "cell_type": "markdown",
   "source": "<a style='text-decoration:none;line-height:16px;display:flex;color:#5B5B62;padding:10px;justify-content:end;' href='https://deepnote.com?utm_source=created-in-deepnote-cell&projectId=8c3c1e35-d859-43d3-a474-2266dd536418' target=\"_blank\">\n<img alt='Created in deepnote.com' style='display:inline;max-height:16px;margin:0px;margin-right:7.5px;' src='data:image/svg+xml;base64,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' > </img>\nCreated in <span style='font-weight:600;margin-left:4px;'>Deepnote</span></a>",
   "metadata": {
    "tags": [],
    "created_in_deepnote_cell": true,
    "deepnote_cell_type": "markdown"
   }
  }
 ],
 "nbformat": 4,
 "nbformat_minor": 2,
 "metadata": {
  "orig_nbformat": 2,
  "deepnote": {
   "is_reactive": false
  },
  "deepnote_notebook_id": "0991da50-ca59-4c45-adc5-974929b548ea",
  "deepnote_execution_queue": [
   {
    "cellId": "00017-77998c6b-0307-42a1-ab7c-ef8cb842e134",
    "sessionId": "c1f157e9-da6d-40e3-ab55-3b2034e652aa",
    "msgId": "e75664a7-d145-4fda-8750-9b54f884c8c8"
   },
   {
    "cellId": "00019-44a69f76-f905-4944-aa12-7e0a9b1a3203",
    "sessionId": "c1f157e9-da6d-40e3-ab55-3b2034e652aa",
    "msgId": "05578c68-cd68-4b1c-8d58-158f9335c6ce"
   },
   {
    "cellId": "00020-a7a4e3d1-91c8-4dc1-afd0-a277949b9945",
    "sessionId": "c1f157e9-da6d-40e3-ab55-3b2034e652aa",
    "msgId": "b0e77d16-6957-4dd4-a471-de3589a6011b"
   },
   {
    "cellId": "00032-a5c50c6b-e7bd-4de3-beca-77ab08b54ddc",
    "sessionId": "c1f157e9-da6d-40e3-ab55-3b2034e652aa",
    "msgId": "7b7ab6bd-fcc1-43ab-ab11-b1be628cf56c"
   },
   {
    "cellId": "00033-d5ebe81a-d129-418f-8788-8054eabd1a1a",
    "sessionId": "c1f157e9-da6d-40e3-ab55-3b2034e652aa",
    "msgId": "3795a8b0-f9fa-442f-bfe9-651aa21d2d0f"
   },
   {
    "cellId": "00034-ee9f82f4-1586-4f27-8b1f-c90f99cd9e5e",
    "sessionId": "c1f157e9-da6d-40e3-ab55-3b2034e652aa",
    "msgId": "7bbfbffc-5f1f-40a4-94e2-2ff66768ebf3"
   },
   {
    "cellId": "00035-7fddf0aa-69fd-4014-a847-6bf7e2aa778e",
    "sessionId": "c1f157e9-da6d-40e3-ab55-3b2034e652aa",
    "msgId": "7691a1b9-a08b-41c7-bfb9-8dabda5c49b5"
   },
   {
    "cellId": "00036-cf6372af-65c6-46cb-9d9b-79232f9ed64d",
    "sessionId": "c1f157e9-da6d-40e3-ab55-3b2034e652aa",
    "msgId": "e19e6181-0a1f-4cb9-9eb0-0203927c81b3"
   },
   {
    "cellId": "00037-d2586607-ed03-47bf-b321-e03a91ffc032",
    "sessionId": "c1f157e9-da6d-40e3-ab55-3b2034e652aa",
    "msgId": "196f54f0-27fe-4266-9e42-edf08f082ca4"
   },
   {
    "cellId": "00038-1b4b6827-ca10-47b7-9731-620e6946831c",
    "sessionId": "c1f157e9-da6d-40e3-ab55-3b2034e652aa",
    "msgId": "b14af50e-e2a7-4213-8877-720380dabd37"
   }
  ]
 }
}