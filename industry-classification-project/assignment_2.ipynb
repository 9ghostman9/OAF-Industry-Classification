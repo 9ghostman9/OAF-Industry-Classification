{
 "cells": [
  {
   "cell_type": "code",
   "metadata": {
    "tags": [],
    "cell_id": "00000-f6457654-43c8-408f-82ef-6e8094b73a1f",
    "deepnote_to_be_reexecuted": false,
    "source_hash": "abfd119f",
    "execution_start": 1636182529499,
    "execution_millis": 38246,
    "deepnote_cell_type": "code"
   },
   "source": "import pandas as pd\nimport regex as re\nimport string\nimport unicodedata\nimport nltk\nimport spacy\nnltk.download('wordnet')\n!python -m spacy download en_core_web_sm >> /dev/null\nfrom sklearn.feature_extraction.text import TfidfVectorizer, CountVectorizer, HashingVectorizer",
   "execution_count": 1,
   "outputs": [
    {
     "name": "stderr",
     "text": "[nltk_data] Downloading package wordnet to /root/nltk_data...\n[nltk_data]   Package wordnet is already up-to-date!\n2021-11-06 07:09:08.791069: W tensorflow/stream_executor/platform/default/dso_loader.cc:60] Could not load dynamic library 'libcudart.so.11.0'; dlerror: libcudart.so.11.0: cannot open shared object file: No such file or directory\n2021-11-06 07:09:08.791141: I tensorflow/stream_executor/cuda/cudart_stub.cc:29] Ignore above cudart dlerror if you do not have a GPU set up on your machine.\n\u001b[33mWARNING: You are using pip version 21.2.4; however, version 21.3.1 is available.\nYou should consider upgrading via the '/root/venv/bin/python -m pip install --upgrade pip' command.\u001b[0m\n",
     "output_type": "stream"
    }
   ]
  },
  {
   "cell_type": "code",
   "metadata": {
    "tags": [],
    "cell_id": "00001-992d117f-69b6-4cc6-be3e-0e4b4bbcaca4",
    "deepnote_to_be_reexecuted": false,
    "source_hash": "b6b04dcc",
    "execution_start": 1636182567767,
    "execution_millis": 7980,
    "deepnote_cell_type": "code"
   },
   "source": "raw_data = pd.read_csv('employer_raw_data_group_2.csv')\nsentences = raw_data['description'].values",
   "execution_count": 2,
   "outputs": []
  },
  {
   "cell_type": "code",
   "metadata": {
    "tags": [],
    "cell_id": "00002-449b8a76-4ebd-4251-8106-219eed1eb9d2",
    "deepnote_to_be_reexecuted": false,
    "source_hash": "f689a68c",
    "execution_start": 1636182575749,
    "execution_millis": 10,
    "deepnote_cell_type": "code"
   },
   "source": "stemmer = nltk.stem.SnowballStemmer(\"english\")\nstop_words = []\nwith open(\"stopwords.txt\", \"r\") as f_in:\n        stop_words = [i.strip().lower() for i in f_in.readlines()]\nlemmatizer = nltk.stem.WordNetLemmatizer()",
   "execution_count": 3,
   "outputs": []
  },
  {
   "cell_type": "markdown",
   "source": "# Task 1: Generalize all the preprocessing tasks into one single function that can be use in the Vectorizer\n",
   "metadata": {
    "tags": [],
    "is_collapsed": false,
    "cell_id": "00002-ee19ac19-a7c6-406a-9abc-2f69cbfaaf3d",
    "deepnote_cell_type": "text-cell-h1"
   }
  },
  {
   "cell_type": "code",
   "metadata": {
    "tags": [],
    "cell_id": "00002-b6cd0d24-b0c6-4b33-924b-d3d5fd268f6c",
    "deepnote_to_be_reexecuted": false,
    "source_hash": "b393c92f",
    "execution_start": 1636182575800,
    "execution_millis": 10,
    "deepnote_cell_type": "code"
   },
   "source": "def get_preprocessing_function(\n    use_lower: bool = True,\n    use_alpha: bool = True,\n    use_stemming: bool = False,\n    use_nodates: bool = False,\n    use_nourl: bool = True,\n    use_stopwords: bool=False,\n    use_lemmatizer: bool=False,\n    use_nocity: bool=False\n):\n    \n    def alpha(text: str):\n        return re.sub(\"[^a-z]+\", \" \", text) if use_alpha else text\n\n    def lower(text: str):\n        return text.lower() if use_lower else text\n        \n    def stemming(text: str):\n        if use_stemming:\n            text = ' '.join(stemmer.stem(x) for x in text.split())\n        return text\n    \n    def dates(text: str):\n        dates = ['january', 'february', 'march', 'april', 'may', 'june', 'july', 'august', 'september', 'october', 'november', 'december', 'jan', 'feb', 'mar', 'apr', 'may', 'jun', 'jul', 'aug', 'sep', \n    'sept', 'oct', 'nov', 'dec'] #added abbreviations to the months list\n        return \" \".join([word for word in text.split(\" \") if word not in dates]) if use_nodates else text\n\n    def url(text: str):\n        url_pattern = re.compile('\\\\S*\\\\.com\\\\b|https?://\\S+|www\\.\\S+')\n        return url_pattern.sub('', text) if use_nourl else text\n    \n    def remove_stopwords(text):\n        return \" \".join([word for word in text.split(\" \") if word not in stop_words]) if use_stopwords else text\n    \n    def lemmatize(text: str):\n        if use_lemmatizer:\n            text=' '.join(lemmatizer.lemmatize(x) for x in text.split())\n        return text\n    \n    def cityremover(text: str):\n        city_state_pattern = re.compile(\"(?<![A-Za-z])[A-Z][a-z]+, [A-Z]{2}(?![A-Za-z])\") # Matches strings like \"Nashville, TN\"\n        return city_state_pattern.sub('city', text) if use_nocity else text\n\n    def preprocess(text: str):\n        #Create list of steps\n        steps = [lower,url, alpha, dates, cityremover, remove_stopwords, lemmatize, stemming]\n        for step in steps:\n            text = step(text)\n        return text\n    \n    return preprocess",
   "execution_count": 4,
   "outputs": []
  },
  {
   "cell_type": "code",
   "metadata": {
    "tags": [],
    "cell_id": "00005-e29071cf-b465-45c1-aa6d-77b8fb5273bb",
    "deepnote_to_be_reexecuted": false,
    "source_hash": "c449c264",
    "execution_start": 1636182575817,
    "execution_millis": 6,
    "deepnote_cell_type": "code"
   },
   "source": "preprocess = get_preprocessing_function(\n    use_lower= True,\n    use_alpha= True,\n    use_stemming= False,\n    use_nodates= True,\n    use_nourl= True,\n    use_stopwords= True,\n    use_lemmatizer= True,\n    use_nocity=True\n)",
   "execution_count": 5,
   "outputs": []
  },
  {
   "cell_type": "code",
   "metadata": {
    "tags": [],
    "cell_id": "00006-d1cf0c94-c987-4ff6-b75e-2e81f7e1e196",
    "deepnote_to_be_reexecuted": false,
    "source_hash": "f997becd",
    "execution_start": 1636182575823,
    "execution_millis": 550974,
    "deepnote_cell_type": "code"
   },
   "source": "preprocessed_data=raw_data\npreprocessed_data['description'] = preprocessed_data['description'].apply(preprocess)\n#preprocessing the data",
   "execution_count": 6,
   "outputs": []
  },
  {
   "cell_type": "code",
   "metadata": {
    "tags": [],
    "cell_id": "00007-940d030e-d0ad-45c0-b237-2481ce28c6a1",
    "deepnote_to_be_reexecuted": false,
    "source_hash": "96adecbb",
    "execution_start": 1636183126797,
    "execution_millis": 2,
    "deepnote_cell_type": "code"
   },
   "source": "print(preprocessed_data['description'].loc[100])",
   "execution_count": 7,
   "outputs": [
    {
     "name": "stdout",
     "text": "rehababilities designed mind therapist owned speak language value high clinical standard ethic pride qualified experienced scheduling team therapy personnel social worker dedicated providing excellent patient care physical therapist assistant inpatient outpatient former employee corona ca rehababilities pro white male racist company accepting assignment assignment often taken away given white male replacement assignment lieu withdrawn assignment additional compensation work well rehababilities people know best inside scoop job salary top office location ceo insight compare pay popular role read team work life balance uncover rehababilities best company review rehababilities experiencing staffing agency would longer using type service longer initial hr assistance reached screened nice recruiter mark quite pushy disrespectful know staffing agency commission like car sale people matched hired rehababilities new mexico foreign profit corporation filed company filing status listed revoked final file number registered agent file company michael jones located zuni rd se albuquerque nm rehababilities operates non profit organization company offer occupational physical marriage family therapy speech language pathology case avenue rancho cucamonga ca website rehababilities offer comprehensive range service medical assistance rancho cucamonga ca keep circulation flowing muscle eased massage clinic rehababilities social service professional review updated recommend friend kim ozias jones rating trust top concern company alter remove review average rehababilities social service professional hourly pay range approximately social worker social worker rehababilities social service professional employee rate overall compensation benefit package star listing related rehababilities rancho cucamonga review photo direction phone number rehababilities location rancho cucamonga ca rehababilities hourly rate free salary comparison based job title skill experience education accurate reliable salary compensation comparison united state supplier spotlight rehababilities marketing supplier company location rancho cucamonga ca type staffing allied social work name susan westin job title rehab staffing manager rehababilities present year month rancho cucamonga hr recruiter artic mechanical month sr consultant frederick andrew site phone fax address ste rancho cucamonga ca mailing rancho cucamonga ca state id business type foreign profit corporation rehababilities located ste rancho cucamonga additional information available contacting kimberly jones rehababilities rehab therapy staffing job california visit website therapy job opportunity rehababilities rehabilitation social work staffing company handle multifaceted administrative need provide support executive account management client relation national acquisition contract catalog search tool allows facility browse medsurg pharmaceutical product service available federal supply service contract search tool allows user locate item using variety search criterion including item description special item number sin contract number national acquisition contract catalog search tool allows facility browse medsurg pharmaceutical product service available federal supply service contract search tool allows user locate item using variety search criterion including item description special item number sin contract number\n",
     "output_type": "stream"
    }
   ]
  },
  {
   "cell_type": "markdown",
   "source": "# Task 2: Work and research on Hashing Vectorizer. ",
   "metadata": {
    "tags": [],
    "is_collapsed": false,
    "cell_id": "00008-f6d22808-fa2a-48e2-a30a-a2121f90f2d6",
    "deepnote_cell_type": "text-cell-h1"
   }
  },
  {
   "cell_type": "markdown",
   "source": "Pros:\n<uli><li>Utilizes very little memory compared to other methods due to hashing strings avoid the need to store words in a dictionary\n\n<uli><li>Incredibly fast with converting objects into character streams because it does not utilize state\n\n<uli><li>Again, because it does not have a state computation, it can be used streaming or parallel pipeline",
   "metadata": {
    "tags": [],
    "cell_id": "00009-cbb07fe3-7aa2-4870-bc29-3fccdda36789",
    "deepnote_cell_type": "markdown"
   }
  },
  {
   "cell_type": "markdown",
   "source": "Cons:\n\n<uli><li>Because the fact that it uses hashing, there is no way to revert back to the original version before the hashing.\n<uli><li>Another problem that can occur due to hashing is the possibility of collisions (when 2 or more different things hash to the same thing).\n<uli><li>Because the function does not have a state, it does not have IDF weighting.",
   "metadata": {
    "tags": [],
    "cell_id": "00010-60ae01b1-01db-491b-a968-0dbab84caa74",
    "deepnote_cell_type": "markdown"
   }
  },
  {
   "cell_type": "markdown",
   "source": "Source: https://scikit-learn.org/stable/modules/generated/sklearn.feature_extraction.text.HashingVectorizer.html",
   "metadata": {
    "tags": [],
    "is_collapsed": false,
    "cell_id": "00011-71f57760-9dcc-42f3-aace-e9aec01ef3a4",
    "deepnote_cell_type": "text-cell-p"
   }
  },
  {
   "cell_type": "code",
   "metadata": {
    "tags": [],
    "cell_id": "00012-e7ee69bd-3f31-4c5a-84ee-cbd529b189eb",
    "deepnote_to_be_reexecuted": false,
    "source_hash": "f163875d",
    "execution_start": 1636183126798,
    "execution_millis": 357,
    "deepnote_cell_type": "code"
   },
   "source": "#initialize a hash vector and a tfidf vectorizer\nhash_vector = HashingVectorizer(\n    preprocessor=preprocess,\n    ngram_range=(1,1),\n    tokenizer=lambda s:s.split(),\n    n_features=100\n)\ntfidf_vector = TfidfVectorizer(\n    preprocessor=preprocess,\n    ngram_range=(1,1),\n    tokenizer=lambda s: s.split(),\n    min_df=0.15,\n    max_df=0.45,\n    max_features=100,\n    use_idf=True,\n    smooth_idf=True\n)",
   "execution_count": 8,
   "outputs": []
  },
  {
   "cell_type": "code",
   "metadata": {
    "tags": [],
    "cell_id": "00013-b806af71-3902-4ee2-a768-42dbce741b07",
    "deepnote_to_be_reexecuted": false,
    "source_hash": "fd3a69",
    "execution_start": 1636183127163,
    "execution_millis": 319511,
    "deepnote_cell_type": "code"
   },
   "source": "vector = hash_vector.fit_transform(sentences) #using hashvectoring",
   "execution_count": null,
   "outputs": [
    {
     "name": "stderr",
     "text": "/shared-libs/python3.7/py/lib/python3.7/site-packages/sklearn/feature_extraction/text.py:517: UserWarning: The parameter 'token_pattern' will not be used since 'tokenizer' is not None'\n  \"The parameter 'token_pattern' will not be used\"\n",
     "output_type": "stream"
    }
   ]
  },
  {
   "cell_type": "code",
   "metadata": {
    "tags": [],
    "cell_id": "00014-d0d4da2e-56cb-4bfe-8fb0-7eb078a4be42",
    "deepnote_to_be_reexecuted": true,
    "source_hash": "21d89589",
    "execution_start": 1636084786943,
    "execution_millis": 9,
    "deepnote_cell_type": "code"
   },
   "source": "vector.todense() #the matrix returned by hashvectoring",
   "execution_count": null,
   "outputs": [
    {
     "output_type": "execute_result",
     "execution_count": 10,
     "data": {
      "text/plain": "matrix([[-0.05619515,  0.03746343, -0.01873172, ..., -0.05619515,\n         -0.1123903 , -0.05619515],\n        [-0.03283988, -0.03283988,  0.04925982, ...,  0.0820997 ,\n          0.        , -0.11493958],\n        [ 0.04724556, -0.02362278,  0.02362278, ...,  0.        ,\n          0.02362278, -0.07086834],\n        ...,\n        [ 0.        ,  0.        , -0.02149668, ...,  0.        ,\n          0.        , -0.1074834 ],\n        [ 0.01776112, -0.05328336,  0.03552224, ..., -0.07104448,\n          0.01776112,  0.        ],\n        [ 0.0157956 ,  0.0631824 ,  0.0315912 , ..., -0.0157956 ,\n          0.0315912 ,  0.        ]])"
     },
     "metadata": {}
    }
   ]
  },
  {
   "cell_type": "code",
   "metadata": {
    "tags": [],
    "cell_id": "00015-8eb26247-d37f-4ccf-9073-37f1662509af",
    "deepnote_to_be_reexecuted": true,
    "source_hash": "6b9fd51",
    "execution_start": 1636084786956,
    "execution_millis": 256631,
    "deepnote_cell_type": "code"
   },
   "source": "vector1 = tfidf_vector.fit_transform(sentences)",
   "execution_count": null,
   "outputs": []
  },
  {
   "cell_type": "code",
   "metadata": {
    "tags": [],
    "cell_id": "00016-dfb34599-a7f5-45f9-bfb9-816bd0fa1234",
    "deepnote_to_be_reexecuted": true,
    "source_hash": "c067a69d",
    "execution_start": 1636085043587,
    "execution_millis": 1305617,
    "deepnote_cell_type": "code"
   },
   "source": "vector1.todense()",
   "execution_count": null,
   "outputs": [
    {
     "output_type": "execute_result",
     "execution_count": 12,
     "data": {
      "text/plain": "matrix([[0.        , 0.03347303, 0.        , ..., 0.        , 0.        ,\n         0.        ],\n        [0.        , 0.        , 0.10693536, ..., 0.        , 0.        ,\n         0.07906341],\n        [0.        , 0.        , 0.12932053, ..., 0.        , 0.32425166,\n         0.09561404],\n        ...,\n        [0.        , 0.19163196, 0.        , ..., 0.        , 0.37358919,\n         0.16524374],\n        [0.        , 0.03821126, 0.        , ..., 0.        , 0.07449339,\n         0.        ],\n        [0.        , 0.19534484, 0.        , ..., 0.08357588, 0.09520688,\n         0.        ]])"
     },
     "metadata": {}
    }
   ]
  },
  {
   "cell_type": "code",
   "metadata": {
    "tags": [],
    "cell_id": "00017-2126fbe5-19c3-4ee7-a06e-5ea3401ff422",
    "deepnote_to_be_reexecuted": true,
    "source_hash": "2a6343b2",
    "execution_start": 1636085043647,
    "execution_millis": 1303837,
    "deepnote_cell_type": "code"
   },
   "source": "sorted(tfidf_vector.vocabulary_.items(),key=lambda x: x[1])",
   "execution_count": null,
   "outputs": [
    {
     "output_type": "execute_result",
     "execution_count": 13,
     "data": {
      "text/plain": "[('across', 0),\n ('address', 1),\n ('american', 2),\n ('available', 3),\n ('best', 4),\n ('brand', 5),\n ('call', 6),\n ('care', 7),\n ('client', 8),\n ('college', 9),\n ('community', 10),\n ('contact', 11),\n ('corporation', 12),\n ('county', 13),\n ('customer', 14),\n ('data', 15),\n ('day', 16),\n ('department', 17),\n ('design', 18),\n ('development', 19),\n ('director', 20),\n ('education', 21),\n ('employee', 22),\n ('facility', 23),\n ('family', 24),\n ('financial', 25),\n ('firm', 26),\n ('free', 27),\n ('full', 28),\n ('general', 29),\n ('global', 30),\n ('group', 31),\n ('health', 32),\n ('help', 33),\n ('high', 34),\n ('home', 35),\n ('industry', 36),\n ('international', 37),\n ('investment', 38),\n ('job', 39),\n ('l', 40),\n ('largest', 41),\n ('law', 42),\n ('leading', 43),\n ('life', 44),\n ('limited', 45),\n ('llc', 46),\n ('manager', 47),\n ('market', 48),\n ('medical', 49),\n ('member', 50),\n ('month', 51),\n ('n', 52),\n ('name', 53),\n ('national', 54),\n ('network', 55),\n ('north', 56),\n ('number', 57),\n ('office', 58),\n ('online', 59),\n ('oregon', 60),\n ('organization', 61),\n ('part', 62),\n ('partner', 63),\n ('patient', 64),\n ('people', 65),\n ('phone', 66),\n ('portland', 67),\n ('private', 68),\n ('product', 69),\n ('professional', 70),\n ('profile', 71),\n ('program', 72),\n ('project', 73),\n ('provide', 74),\n ('provider', 75),\n ('provides', 76),\n ('providing', 77),\n ('public', 78),\n ('quality', 79),\n ('real', 80),\n ('research', 81),\n ('salary', 82),\n ('sale', 83),\n ('school', 84),\n ('security', 85),\n ('since', 86),\n ('solution', 87),\n ('student', 88),\n ('support', 89),\n ('system', 90),\n ('technology', 91),\n ('today', 92),\n ('top', 93),\n ('united', 94),\n ('university', 95),\n ('use', 96),\n ('view', 97),\n ('website', 98),\n ('well', 99)]"
     },
     "metadata": {}
    }
   ]
  },
  {
   "cell_type": "markdown",
   "source": "# Task 3: Research on Non-negative Matrix Factorization ",
   "metadata": {
    "tags": [],
    "is_collapsed": false,
    "cell_id": "00018-8ea5bf25-7dc6-4059-ba2b-47251c8005d9",
    "deepnote_cell_type": "text-cell-h1"
   }
  },
  {
   "cell_type": "markdown",
   "source": "https://docs.google.com/presentation/d/1HPOqddXEz9BKKSnpjZYOvnfgKeNlZZOxulPgakfCQGw/edit?usp=sharing",
   "metadata": {
    "tags": [],
    "is_collapsed": false,
    "cell_id": "00019-3311386a-be68-4ee0-88a6-a3963c5f08b2",
    "deepnote_cell_type": "text-cell-p"
   }
  },
  {
   "cell_type": "markdown",
   "source": "# Task 4: Implementation of a NNMF ",
   "metadata": {
    "tags": [],
    "is_collapsed": false,
    "cell_id": "00020-21206e09-dab7-4387-8488-efd413a54683",
    "deepnote_cell_type": "text-cell-h1"
   }
  },
  {
   "cell_type": "code",
   "metadata": {
    "tags": [],
    "cell_id": "00021-b1dd3e48-ab5c-4bdf-8421-875451f930a3",
    "deepnote_to_be_reexecuted": true,
    "source_hash": "2a5df45b",
    "execution_start": 1636085043649,
    "execution_millis": 3,
    "deepnote_cell_type": "code"
   },
   "source": "from sklearn.decomposition import NMF",
   "execution_count": null,
   "outputs": []
  },
  {
   "cell_type": "code",
   "metadata": {
    "tags": [],
    "cell_id": "00022-a4b561b2-d389-437f-870f-a0682017ed06",
    "deepnote_to_be_reexecuted": true,
    "source_hash": "134dc327",
    "execution_start": 1636085043690,
    "execution_millis": 1301091,
    "deepnote_cell_type": "code"
   },
   "source": "nmf = NMF(n_components=100)",
   "execution_count": null,
   "outputs": []
  },
  {
   "cell_type": "code",
   "metadata": {
    "tags": [],
    "cell_id": "00023-8cb9885b-2e1c-46a6-b7b4-66d347e29a79",
    "deepnote_to_be_reexecuted": true,
    "source_hash": "621da9a5",
    "execution_start": 1636085043691,
    "execution_millis": 69803,
    "deepnote_cell_type": "code"
   },
   "source": "W = nmf.fit_transform(vector1)",
   "execution_count": null,
   "outputs": [
    {
     "name": "stderr",
     "text": "/shared-libs/python3.7/py/lib/python3.7/site-packages/sklearn/decomposition/_nmf.py:294: FutureWarning: The 'init' value, when 'init=None' and n_components is less than n_samples and n_features, will be changed from 'nndsvd' to 'nndsvda' in 1.1 (renaming of 0.26).\n  FutureWarning,\n",
     "output_type": "stream"
    }
   ]
  },
  {
   "cell_type": "code",
   "metadata": {
    "tags": [],
    "cell_id": "00024-a40de55a-b5d4-4311-94a7-6c9d0e25aa93",
    "deepnote_to_be_reexecuted": true,
    "source_hash": "4bfeeb75",
    "execution_start": 1636085113517,
    "execution_millis": 1,
    "deepnote_cell_type": "code"
   },
   "source": "def display_topics(model, feature_names, num_top_words,topic_names=None):\n     # iterate through topics in topic-term matrix, 'H' aka\n    # model.components_\n    for ix, topic in enumerate(model.components_):\n        #print topic, topic number, and top words\n        if not topic_names or not topic_names[ix]:\n            print(\"\\nCompanies \", ix)\n        else:\n            print(\"\\nCompanies: '\",topic_names[ix],\"'\")\n        print(\", \".join([feature_names[i] \\\n             for i in topic.argsort()[:-num_top_words - 1:-1]]))",
   "execution_count": null,
   "outputs": []
  },
  {
   "cell_type": "code",
   "metadata": {
    "tags": [],
    "cell_id": "00025-eec452fb-d225-48c3-8772-63c1c0f5e91a",
    "deepnote_to_be_reexecuted": true,
    "source_hash": "6e8d2f42",
    "execution_start": 1636085113560,
    "execution_millis": 1282366,
    "deepnote_cell_type": "code"
   },
   "source": "H= nmf.components_",
   "execution_count": null,
   "outputs": []
  },
  {
   "cell_type": "code",
   "metadata": {
    "tags": [],
    "cell_id": "00027-cae520f9-e9ea-41a4-a657-8a1636a2c4e9",
    "deepnote_to_be_reexecuted": true,
    "source_hash": "1e1d56b4",
    "execution_start": 1636085113604,
    "execution_millis": 2,
    "deepnote_cell_type": "code"
   },
   "source": "display_topics(nmf, tfidf_vector.get_feature_names(), 5)",
   "execution_count": null,
   "outputs": [
    {
     "name": "stdout",
     "text": "\nCompanies  0\nproduct, well, home, firm, free\n\nCompanies  1\nhealth, care, member, international, free\n\nCompanies  2\nuniversity, profile, salary, college, national\n\nCompanies  3\ninvestment, member, industry, firm, free\n\nCompanies  4\nacross, international, manager, home, firm\n\nCompanies  5\nllc, profile, united, law, national\n\nCompanies  6\ngroup, profile, well, home, firm\n\nCompanies  7\njob, director, full, organization, month\n\nCompanies  8\nn, profile, well, industry, free\n\nCompanies  9\nschool, member, american, well, industry\n\nCompanies  10\ncorporation, profile, american, international, industry\n\nCompanies  11\nmedical, care, patient, profile, college\n\nCompanies  12\nlimited, profile, private, member, well\n\nCompanies  13\ncare, patient, well, industry, free\n\nCompanies  14\ncounty, college, national, well, free\n\nCompanies  15\nprofile, view, professional, largest, community\n\nCompanies  16\nlaw, firm, college, industry, free\n\nCompanies  17\nportland, oregon, member, law, national\n\nCompanies  18\ntechnology, provider, international, well, home\n\nCompanies  19\ninternational, global, industry, firm, free\n\nCompanies  20\nsolution, industry, provider, technology, global\n\nCompanies  21\nsystem, provider, home, international, well\n\nCompanies  22\nhome, member, industry, firm, free\n\nCompanies  23\nproject, profile, design, well, firm\n\nCompanies  24\nresearch, profile, salary, international, help\n\nCompanies  25\nfinancial, global, industry, firm, free\n\nCompanies  26\neducation, oregon, college, design, american\n\nCompanies  27\nnumber, address, contact, call, free\n\nCompanies  28\nl, brand, well, industry, free\n\nCompanies  29\ncollege, student, program, well, home\n\nCompanies  30\nnational, network, college, brand, member\n\nCompanies  31\nbrand, free, day, today, name\n\nCompanies  32\ndepartment, office, day, public, national\n\nCompanies  33\nnetwork, profile, provider, day, global\n\nCompanies  34\nday, call, family, international, limited\n\nCompanies  35\nglobal, leading, industry, today, provider\n\nCompanies  36\ndata, free, industry, provider, technology\n\nCompanies  37\npartner, firm, real, provider, private\n\nCompanies  38\nindustry, customer, sale, leading, family\n\nCompanies  39\nfamily, call, international, free, full\n\nCompanies  40\nsecurity, office, customer, provider, real\n\nCompanies  41\namerican, college, today, north, name\n\nCompanies  42\nreal, profile, office, north, home\n\nCompanies  43\nnorth, united, american, international, well\n\nCompanies  44\nunited, profile, office, well, home\n\nCompanies  45\ntop, profile, best, office, customer\n\nCompanies  46\ncustomer, contact, call, office, sale\n\nCompanies  47\ndesign, since, sale, american, international\n\nCompanies  48\nfree, salary, online, call, office\n\nCompanies  49\nsale, office, online, month, brand\n\nCompanies  50\nmonth, salary, college, office, manager\n\nCompanies  51\nmarket, office, online, leading, today\n\nCompanies  52\ndevelopment, office, well, industry, free\n\nCompanies  53\noffice, contact, online, since, private\n\nCompanies  54\npatient, care, health, call, medical\n\nCompanies  55\nlife, call, provider, home, well\n\nCompanies  56\ncommunity, view, professional, largest, health\n\nCompanies  57\nfacility, care, call, health, available\n\nCompanies  58\nprivate, leading, since, firm, public\n\nCompanies  59\nmanager, college, quality, american, industry\n\nCompanies  60\nprogram, student, support, online, system\n\nCompanies  61\nonline, website, call, available, today\n\nCompanies  62\npublic, oregon, member, well, home\n\nCompanies  63\nmember, since, industry, firm, free\n\nCompanies  64\nview, professional, address, available, provides\n\nCompanies  65\nemployee, profile, salary, support, part\n\nCompanies  66\ngeneral, contact, health, medical, support\n\nCompanies  67\nfirm, profile, salary, client, leading\n\nCompanies  68\nsupport, available, part, well, industry\n\nCompanies  69\nquality, call, best, high, since\n\nCompanies  70\ndirector, salary, college, medical, since\n\nCompanies  71\nclient, salary, help, oregon, since\n\nCompanies  72\noregon, portland, call, best, website\n\nCompanies  73\npart, since, available, high, name\n\nCompanies  74\nprofessional, largest, use, since, national\n\nCompanies  75\nprovider, care, contact, salary, help\n\nCompanies  76\nname, address, contact, website, since\n\nCompanies  77\nstudent, education, program, university, school\n\nCompanies  78\nwebsite, profile, call, available, best\n\nCompanies  79\norganization, salary, help, leading, home\n\nCompanies  80\nfull, salary, call, help, available\n\nCompanies  81\ncontact, profile, address, call, salary\n\nCompanies  82\npeople, address, best, well, help\n\nCompanies  83\nwell, best, help, since, use\n\nCompanies  84\nhelp, call, use, best, today\n\nCompanies  85\nuse, available, best, well, industry\n\nCompanies  86\naddress, phone, best, office, available\n\nCompanies  87\nsalary, job, employee, profile, best\n\nCompanies  88\nhigh, profile, school, leading, since\n\nCompanies  89\navailable, call, best, department, well\n\nCompanies  90\nbest, job, call, college, people\n\nCompanies  91\nsince, profile, college, today, home\n\nCompanies  92\ncall, phone, today, college, department\n\nCompanies  93\ntoday, college, leading, home, national\n\nCompanies  94\nleading, profile, solution, people, college\n\nCompanies  95\nphone, number, profile, office, college\n\nCompanies  96\nprovides, profile, solution, financial, department\n\nCompanies  97\nlargest, community, college, people, north\n\nCompanies  98\nprovide, profile, county, medical, solution\n\nCompanies  99\nproviding, profile, college, county, solution\n/shared-libs/python3.7/py/lib/python3.7/site-packages/sklearn/utils/deprecation.py:87: FutureWarning: Function get_feature_names is deprecated; get_feature_names is deprecated in 1.0 and will be removed in 1.2. Please use get_feature_names_out instead.\n  warnings.warn(msg, category=FutureWarning)\n",
     "output_type": "stream"
    }
   ]
  },
  {
   "cell_type": "markdown",
   "source": "# Task 5: Evaluation",
   "metadata": {
    "tags": [],
    "is_collapsed": false,
    "cell_id": "00027-ea4d0d2e-9bc5-4935-b6f6-5d1828f4b280",
    "deepnote_cell_type": "text-cell-h1"
   }
  },
  {
   "cell_type": "markdown",
   "source": "While it did seek out correlations between words, over all, it did seem to miss on some topics. It predicted topics such as education, health care, financial firms, and network providers. However, for the rest, the data was not clean enough for some topics to come about.",
   "metadata": {
    "tags": [],
    "cell_id": "00028-f05ad5d2-eb5d-4cb5-85ae-8dd3154d5990",
    "deepnote_cell_type": "markdown"
   }
  },
  {
   "cell_type": "markdown",
   "source": "<a style='text-decoration:none;line-height:16px;display:flex;color:#5B5B62;padding:10px;justify-content:end;' href='https://deepnote.com?utm_source=created-in-deepnote-cell&projectId=8c3c1e35-d859-43d3-a474-2266dd536418' target=\"_blank\">\n<img alt='Created in deepnote.com' style='display:inline;max-height:16px;margin:0px;margin-right:7.5px;' src='data:image/svg+xml;base64,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' > </img>\nCreated in <span style='font-weight:600;margin-left:4px;'>Deepnote</span></a>",
   "metadata": {
    "tags": [],
    "created_in_deepnote_cell": true,
    "deepnote_cell_type": "markdown"
   }
  }
 ],
 "nbformat": 4,
 "nbformat_minor": 2,
 "metadata": {
  "orig_nbformat": 2,
  "deepnote": {
   "is_reactive": false
  },
  "deepnote_notebook_id": "f30eb679-7b46-4740-97dc-5df2f13d1aa1",
  "deepnote_execution_queue": [
   {
    "cellId": "00013-b806af71-3902-4ee2-a768-42dbce741b07",
    "sessionId": "c1f157e9-da6d-40e3-ab55-3b2034e652aa",
    "msgId": "8f77d4c5-530d-44c0-8124-5cb5925da36a"
   },
   {
    "cellId": "00014-d0d4da2e-56cb-4bfe-8fb0-7eb078a4be42",
    "sessionId": "c1f157e9-da6d-40e3-ab55-3b2034e652aa",
    "msgId": "50251c4e-c63a-43cd-b19b-c5ac921cb5fe"
   },
   {
    "cellId": "00015-8eb26247-d37f-4ccf-9073-37f1662509af",
    "sessionId": "c1f157e9-da6d-40e3-ab55-3b2034e652aa",
    "msgId": "88659ea9-db3d-4170-9f86-b0f77d589a72"
   },
   {
    "cellId": "00016-dfb34599-a7f5-45f9-bfb9-816bd0fa1234",
    "sessionId": "c1f157e9-da6d-40e3-ab55-3b2034e652aa",
    "msgId": "dfda160c-a030-4eb9-91d4-f4ebacb5ffa1"
   },
   {
    "cellId": "00017-2126fbe5-19c3-4ee7-a06e-5ea3401ff422",
    "sessionId": "c1f157e9-da6d-40e3-ab55-3b2034e652aa",
    "msgId": "2620d32a-c394-4386-93ea-dcb2d2af1ff2"
   },
   {
    "cellId": "00021-b1dd3e48-ab5c-4bdf-8421-875451f930a3",
    "sessionId": "c1f157e9-da6d-40e3-ab55-3b2034e652aa",
    "msgId": "d7d11d96-0ced-4bd3-a21d-71c8caf571a5"
   },
   {
    "cellId": "00022-a4b561b2-d389-437f-870f-a0682017ed06",
    "sessionId": "c1f157e9-da6d-40e3-ab55-3b2034e652aa",
    "msgId": "9d17afd3-ddfe-44d3-abcc-b89e40200ac2"
   },
   {
    "cellId": "00023-8cb9885b-2e1c-46a6-b7b4-66d347e29a79",
    "sessionId": "c1f157e9-da6d-40e3-ab55-3b2034e652aa",
    "msgId": "8f4d6a9c-9f3b-47d6-9537-a37aa9b9891b"
   },
   {
    "cellId": "00024-a40de55a-b5d4-4311-94a7-6c9d0e25aa93",
    "sessionId": "c1f157e9-da6d-40e3-ab55-3b2034e652aa",
    "msgId": "5bc883bd-88ce-4879-8920-80d90ff0cdfd"
   },
   {
    "cellId": "00025-eec452fb-d225-48c3-8772-63c1c0f5e91a",
    "sessionId": "c1f157e9-da6d-40e3-ab55-3b2034e652aa",
    "msgId": "67e411f5-03d4-461e-8333-7f8958b246f5"
   },
   {
    "cellId": "00027-cae520f9-e9ea-41a4-a657-8a1636a2c4e9",
    "sessionId": "c1f157e9-da6d-40e3-ab55-3b2034e652aa",
    "msgId": "c3dbd8fe-7f6a-42e2-98ce-c5ae6c4aba91"
   }
  ]
 }
}