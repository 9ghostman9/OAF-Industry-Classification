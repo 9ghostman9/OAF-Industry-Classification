{
 "cells": [
  {
   "cell_type": "markdown",
   "source": "# Assignment 1 -- Julius Tabery, Harrison Le",
   "metadata": {
    "cell_id": "00000-d2fba5a7-b0ce-41d1-93ac-22552dff53c4",
    "deepnote_cell_type": "markdown"
   }
  },
  {
   "cell_type": "markdown",
   "source": "## Task 1\n#### Load the dataset and make at least two observations",
   "metadata": {
    "cell_id": "00001-6aac9577-0fcf-4529-9943-5e4b6b4f8461",
    "deepnote_cell_type": "markdown"
   }
  },
  {
   "cell_type": "code",
   "metadata": {
    "cell_id": "00002-f36476e3-7bc3-433f-a256-3230ba0612ba",
    "deepnote_to_be_reexecuted": false,
    "execution_millis": 22243,
    "execution_start": 1636182332539,
    "source_hash": "582d2a35",
    "tags": [],
    "deepnote_cell_type": "code"
   },
   "source": "import pandas as pd\nimport regex as re\nimport string\nimport unicodedata\nimport nltk\nimport spacy\nnltk.download('wordnet')\n!python -m spacy download en_core_web_sm >> /dev/null",
   "execution_count": 1,
   "outputs": [
    {
     "name": "stderr",
     "text": "[nltk_data] Downloading package wordnet to /root/nltk_data...\n[nltk_data]   Unzipping corpora/wordnet.zip.\n2021-11-06 07:05:47.613106: W tensorflow/stream_executor/platform/default/dso_loader.cc:60] Could not load dynamic library 'libcudart.so.11.0'; dlerror: libcudart.so.11.0: cannot open shared object file: No such file or directory\n2021-11-06 07:05:47.613160: I tensorflow/stream_executor/cuda/cudart_stub.cc:29] Ignore above cudart dlerror if you do not have a GPU set up on your machine.\n\u001b[33mWARNING: You are using pip version 21.2.4; however, version 21.3.1 is available.\nYou should consider upgrading via the '/root/venv/bin/python -m pip install --upgrade pip' command.\u001b[0m\n",
     "output_type": "stream"
    }
   ]
  },
  {
   "cell_type": "code",
   "metadata": {
    "cell_id": "00002-3d444965-5c30-4b1c-b2f3-f509b0f85345",
    "deepnote_to_be_reexecuted": false,
    "execution_millis": 2798,
    "execution_start": 1636182354788,
    "source_hash": "d8f37123",
    "deepnote_cell_type": "code"
   },
   "source": "raw_data = pd.read_csv('employer_raw_data_group_2.csv')\n\nraw_data.describe()",
   "execution_count": 2,
   "outputs": [
    {
     "output_type": "execute_result",
     "execution_count": 2,
     "data": {
      "application/vnd.deepnote.dataframe.v2+json": {
       "row_count": 8,
       "column_count": 1,
       "columns": [
        {
         "name": "Unnamed: 0",
         "dtype": "float64",
         "stats": {
          "unique_count": 7,
          "nan_count": 0,
          "min": "0.0",
          "max": "20000.0",
          "histogram": [
           {
            "bin_start": 0,
            "bin_end": 2000,
            "count": 1
           },
           {
            "bin_start": 2000,
            "bin_end": 4000,
            "count": 0
           },
           {
            "bin_start": 4000,
            "bin_end": 6000,
            "count": 2
           },
           {
            "bin_start": 6000,
            "bin_end": 8000,
            "count": 0
           },
           {
            "bin_start": 8000,
            "bin_end": 10000,
            "count": 2
           },
           {
            "bin_start": 10000,
            "bin_end": 12000,
            "count": 0
           },
           {
            "bin_start": 12000,
            "bin_end": 14000,
            "count": 0
           },
           {
            "bin_start": 14000,
            "bin_end": 16000,
            "count": 1
           },
           {
            "bin_start": 16000,
            "bin_end": 18000,
            "count": 0
           },
           {
            "bin_start": 18000,
            "bin_end": 20000,
            "count": 2
           }
          ]
         }
        },
        {
         "name": "_deepnote_index_column",
         "dtype": "object"
        }
       ],
       "rows_top": [
        {
         "Unnamed: 0": 20000,
         "_deepnote_index_column": "count"
        },
        {
         "Unnamed: 0": 9999.5,
         "_deepnote_index_column": "mean"
        },
        {
         "Unnamed: 0": 5773.647027659381,
         "_deepnote_index_column": "std"
        },
        {
         "Unnamed: 0": 0,
         "_deepnote_index_column": "min"
        },
        {
         "Unnamed: 0": 4999.75,
         "_deepnote_index_column": "25%"
        },
        {
         "Unnamed: 0": 9999.5,
         "_deepnote_index_column": "50%"
        },
        {
         "Unnamed: 0": 14999.25,
         "_deepnote_index_column": "75%"
        },
        {
         "Unnamed: 0": 19999,
         "_deepnote_index_column": "max"
        }
       ],
       "rows_bottom": null
      },
      "text/plain": "         Unnamed: 0\ncount  20000.000000\nmean    9999.500000\nstd     5773.647028\nmin        0.000000\n25%     4999.750000\n50%     9999.500000\n75%    14999.250000\nmax    19999.000000",
      "text/html": "<div>\n<style scoped>\n    .dataframe tbody tr th:only-of-type {\n        vertical-align: middle;\n    }\n\n    .dataframe tbody tr th {\n        vertical-align: top;\n    }\n\n    .dataframe thead th {\n        text-align: right;\n    }\n</style>\n<table border=\"1\" class=\"dataframe\">\n  <thead>\n    <tr style=\"text-align: right;\">\n      <th></th>\n      <th>Unnamed: 0</th>\n    </tr>\n  </thead>\n  <tbody>\n    <tr>\n      <th>count</th>\n      <td>20000.000000</td>\n    </tr>\n    <tr>\n      <th>mean</th>\n      <td>9999.500000</td>\n    </tr>\n    <tr>\n      <th>std</th>\n      <td>5773.647028</td>\n    </tr>\n    <tr>\n      <th>min</th>\n      <td>0.000000</td>\n    </tr>\n    <tr>\n      <th>25%</th>\n      <td>4999.750000</td>\n    </tr>\n    <tr>\n      <th>50%</th>\n      <td>9999.500000</td>\n    </tr>\n    <tr>\n      <th>75%</th>\n      <td>14999.250000</td>\n    </tr>\n    <tr>\n      <th>max</th>\n      <td>19999.000000</td>\n    </tr>\n  </tbody>\n</table>\n</div>"
     },
     "metadata": {}
    }
   ]
  },
  {
   "cell_type": "code",
   "metadata": {
    "cell_id": "00003-bc4d059b-2b79-4e39-ab0a-a75a810c6d14",
    "deepnote_to_be_reexecuted": false,
    "execution_millis": 7,
    "execution_start": 1636182357580,
    "source_hash": "16a10aa0",
    "deepnote_cell_type": "code"
   },
   "source": "print(raw_data['description'].loc[100])",
   "execution_count": 3,
   "outputs": [
    {
     "name": "stdout",
     "text": "“RehabAbilities has been designed with YOU in mind. Being therapist-owned, we speak your language & value your high clinical standards & ethics. We pride ourselves on having the most qualified & experienced Scheduling Team, Therapy Personnel, & Social Workers dedicated to providing excellent patient care! Physical Therapist Assistant Inpatient and Outpatient (Former Employee) - Corona, CA - March 24, 2021. RehabAbilities is a Pro white male racist company. After accepting assignments, assignments were often taken away from and given to white males.. Replacement assignments in lieu of the withdrawn assignments and with no additional compensation ... Find out what works well at RehabAbilities from the people who know best. Get the inside scoop on jobs, salaries, top office locations, and CEO insights. Compare pay for popular roles and read about the team’s work-life balance. Uncover why RehabAbilities is the best company for you. 1 review of RehabAbilities \"After experiencing what I did with this staffing agency, I would no longer be using any of these types of services any longer. The initial HR assistance who reached out and screened me was nice, but the recruiter (Mark) was quite pushy and disrespectful. We all know staffing agencies get a commission, like a car sales, once people get matched and hired. Rehababilities, Inc. is a New Mexico Foreign Profit Corporation filed On July 27, 1992. The company's filing status is listed as Revoked Final and its File Number is 1575075. The Registered Agent on file for this company is Michael Jones and is located at 5555 Zuni Rd. Se #356, Albuquerque, NM 87108. Rehababilities, Inc. operates as a non profit organization. The Company offers occupational, physical, marriage, and family therapy, speech language pathology, case ... 8655 Haven Avenue, Rancho Cucamonga, CA 91730. +19099895699. Website. Rehababilities offers a comprehensive range of services for those in need of medical assistance in Rancho Cucamonga, CA. Keep your circulation flowing and your muscles eased with a massage from this clinic. RehabAbilities & Social Service Professionals Reviews. Updated Oct 4, 2019. 3.6. ★★★★★. 78 %. Recommend to a Friend. Kim Ozias-Jones. 0 Rating. Your trust is our top concern, so companies can't alter or remove reviews. The average RehabAbilities & Social Service Professionals hourly pay ranges from approximately $27 per hour for a Social Worker to $27 per hour for a Social Worker. RehabAbilities & Social Service Professionals employees rate the overall compensation and benefits package 3.5/5 stars. Find 2 listings related to Rehababilities Inc in Rancho Cucamonga on YP.com. See reviews, photos, directions, phone numbers and more for Rehababilities Inc locations in Rancho Cucamonga, CA. RehabAbilities - Hourly Rate - Get a free salary comparison based on job title, skills, experience and education. Accurate, reliable salary and compensation comparisons for United States Supplier Spotlight: RehabAbilities. By Marketing on 11/13/15 in Suppliers. Company Location: Rancho Cucamonga, CA. Type of Staffing: Allied and Social Work. Name: Susan Westin. Job Title: Rehab Staffing Manager. RehabAbilities Feb 2018 - Present 3 years 7 months. Rancho Cucamonga HR Recruiter Artic Mechanical Sep 2017 - Feb 2018 6 months. Sr. Consultant frederick | andrews ... Site: rehababilities.com. Phone: (909) 989-5699, (909) 989-7633 (Fax) Addresses: 8655 Haven Ave Ste 200, Rancho Cucamonga, CA 91730 (Mailing) 9227 Haven Ave # 300, Rancho Cucamonga, CA 91730. State ID: 0802018041. Business type: Foreign For-Profit Corporation Rehababilities, Inc. was founded in 1987, and is located at 8655 Haven Ave Ste 200 in Rancho Cucamonga. Additional information is available at www.rehababilities.com or by contacting Kimberly Jones at (909) 989-5699. RehabAbilities | Rehab Therapy Staffing and Jobs for - PTs, PTAs, OTs, OTAs, & SLPs, in California. Visit our website to see our Therapy Job Opportunities! RehabAbilities is a rehabilitation and social work staffing company. I handle multifaceted administrative needs and provide support to executive and account management, client relations and ... The National Acquisition Center Contract Catalog Search Tool now allows your facility to browse MedSurg and Pharmaceutical products and services available under Federal Supply Service contracts. The search tool allows the user to locate items using a variety of search criteria, including item description, special item number (SIN) and contract number. The National Acquisition Center Contract Catalog Search Tool now allows your facility to browse MedSurg and Pharmaceutical products and services available under Federal Supply Service contracts. The search tool allows the user to locate items using a variety of search criteria, including item description, special item number (SIN) and contract number.\n",
     "output_type": "stream"
    }
   ]
  },
  {
   "cell_type": "markdown",
   "source": "### Observations\nThe dataset contains just two columns: the name of the company (\"employers\") and the description of the company (\"description\"). The \"employers\" column seems straightforward enough, but the \"description\" column is a bit more complicated. It all seems to pertain to the company, but the content of the descriptions seem to vary. For example, the description above starts with an advertisement for the company, but then also includes some kind of review from a former employee who accuses the company of racist and sexist practice. It seems like, often, pieces of information from distinct sources are separated by two or three periods (\"...\"). It seems like most numeric information will probably not be that helpful. Phone numbers, dates, mailing addresses, etc. I think, for the purposes of the model, these kinds of information will not be very useful. Additionally, punctuation in the reviews section should be cleaned out, as they are not necessary to the data.",
   "metadata": {
    "cell_id": "00004-aebef84b-193e-4a4d-97fe-60ecb798437b",
    "deepnote_cell_type": "markdown"
   }
  },
  {
   "cell_type": "markdown",
   "source": "## Task 2\n#### Create the regex for a phone number",
   "metadata": {
    "cell_id": "00005-3c88448c-37fd-4736-b79b-7426e07b9828",
    "deepnote_cell_type": "markdown"
   }
  },
  {
   "cell_type": "code",
   "metadata": {
    "cell_id": "00007-aa508294-e34a-4437-a6b9-0bf7c94252af",
    "deepnote_to_be_reexecuted": false,
    "execution_millis": 4,
    "execution_start": 1636182357631,
    "source_hash": "5d4d8153",
    "tags": [],
    "deepnote_cell_type": "code"
   },
   "source": "'''\nPATTERN BREAKDOWN:\n\n(?<![0-9])\nMakes sure that the phone number does not follow another number character.\n\n(?:(?:\\+1 ?)?|1 ?) \nMatches if there is \"1\" or \"+1\" at the beginning, since some phone numbers include this.\nIt also matches if there is a space after the \"1\" or \"+1\".\n\n(?:\\([0-9]{3}\\)|[0-9]{3})\nMatches a set of three numbers, possibly inside of parentheses.\n\n[\\. \\-]{0,3} \nMatches characters between the numbers, such as in examples 1, 3, 4, 5, and 6.\n\n[0-9]{3} \nMatches 3 more numbers\n\n[\\. \\-]{0,3}\nMatches more characters between the numbers\n\n[0-9]{4} \nMatches 4 numbers at the end\n\n(?![0-9])\nMakes sure that the string is not followed by another number character.\n'''\n\nphone_number_pattern = \"(?<![0-9])(?:(?:\\+1[ \\-]?)?|1[ \\-]?)(?:\\([0-9]{3}\\)|[0-9]{3})[\\. \\-]{0,3}[0-9]{3}[\\. \\-]{0,3}[0-9]{4}(?![0-9])\"\n\ngood_examples = []\ngood_examples.append(\"My phone number is +1 (123) 456 7890.\")\ngood_examples.append(\"Here's my phone number: +11234567890.\")\ngood_examples.append(\"You can reach me at +1(123)-456-7890.\")\ngood_examples.append(\"My number is (123) - 456 - 7890.\")\ngood_examples.append(\"Phone: 1 123- 456- 7890.\")\ngood_examples.append(\"My phone: 123.456.7890.\")\ngood_examples.append(\"Call my office: +1-(123)-456-7890.\")\nfor example in good_examples:\n    print(\"This should find a match.     Matches:\", re.findall(phone_number_pattern, example))\n\nbad_examples = []\nbad_examples.append(\"My phone number is +1 123) 456 7890.\")   # Closing parenthesis without opening\nbad_examples.append(\"Here's my phone number: 123456789.\")     # Too short\nbad_examples.append(\"Here's my phone number: 123456789012.\")  # Too long\nbad_examples.append(\"You can reach me at +1 123-\\n456-7890.\") # Newline character in the middle\nbad_examples.append(\"My number is (123) - 456 - 789.\")        # Too short\nbad_examples.append(\"Phone: 123*456*7890.\")                   # Invalid character\nbad_examples.append(\"My phone: 1 800-GET-RICH.\")              # letters, not numbers\nbad_examples.append(\"Call my office: +1-(123)-4567-890.\")     # Numbers partitioned incorrectly\nfor example in bad_examples:\n    print(\"This should NOT find a match. Matches:\", re.findall(phone_number_pattern, example))",
   "execution_count": 4,
   "outputs": [
    {
     "name": "stdout",
     "text": "This should find a match.     Matches: ['+1 (123) 456 7890']\nThis should find a match.     Matches: ['+11234567890']\nThis should find a match.     Matches: ['+1(123)-456-7890']\nThis should find a match.     Matches: ['(123) - 456 - 7890']\nThis should find a match.     Matches: ['1 123- 456- 7890']\nThis should find a match.     Matches: ['123.456.7890']\nThis should find a match.     Matches: ['+1-(123)-456-7890']\nThis should NOT find a match. Matches: []\nThis should NOT find a match. Matches: []\nThis should NOT find a match. Matches: []\nThis should NOT find a match. Matches: []\nThis should NOT find a match. Matches: []\nThis should NOT find a match. Matches: []\nThis should NOT find a match. Matches: []\nThis should NOT find a match. Matches: []\n",
     "output_type": "stream"
    }
   ]
  },
  {
   "cell_type": "markdown",
   "source": "## Task 3, 6\n#### Apply all the cleaning techniques on the dataset by using function. Your function will take a string as an input and will return the clean version of it. Create one function per regex + string manipulation you do. Use the apply function of pandas to clean your dataset. Additionally, remove any stopwords, including any stopwords that you can come up with that pertain to this use case.",
   "metadata": {
    "cell_id": "00008-fae9bdf3-9ca2-4aab-becf-735b52d02d3d",
    "tags": [],
    "deepnote_cell_type": "markdown"
   }
  },
  {
   "cell_type": "code",
   "metadata": {
    "cell_id": "00009-cde9d213-c1b8-41f9-bc51-1633a64bc35c",
    "deepnote_to_be_reexecuted": false,
    "source_hash": "43261ddf",
    "execution_start": 1636182357632,
    "execution_millis": 4,
    "deepnote_cell_type": "code"
   },
   "source": "def normalize(text):\n    return unicodedata.normalize('NFKD', text).encode('ascii', 'ignore').decode('utf-8', 'ignore')\n\ndef remove_phone_numbers(text):\n    phone_number_pattern = re.compile(\"(?<![0-9])(?:(?:\\+1[ \\-]?)?|1[ \\-]?)(?:\\([0-9]{3}\\)|[0-9]{3})[\\. \\-]{0,3}[0-9]{3}[\\. \\-]{0,3}[0-9]{4}(?![0-9])\")\n    return phone_number_pattern.sub('', text)\n\ndef remove_html(text):\n    html_pattern = re.compile('<.*?>')\n    return html_pattern.sub('', text)\n\ndef remove_urls(text):\n    url_pattern = re.compile('\\\\S*\\\\.com\\\\b|https?://\\S+|www\\.\\S+')\n    return url_pattern.sub('', text)\n\ndef remove_emoji(text):\n    emoji_pattern = re.compile(\"[\"\n        u\"\\U0001F600-\\U0001F64F\"  # emoticons\n        u\"\\U0001F300-\\U0001F5FF\"  # symbols & pictographs\n        u\"\\U0001F680-\\U0001F6FF\"  # transport & map symbols\n        u\"\\U0001F1E0-\\U0001F1FF\"  # flags (iOS)\n        u\"\\U00002702-\\U000027B0\"\n        u\"\\U000024C2-\\U0001F251\"\n        \"]+\", flags=re.UNICODE)\n    return emoji_pattern.sub(r'', text)\n\ndef remove_hashtags(text):\n    hashtag_pattern = re.compile(\"#\\w+\")\n    return hashtag_pattern.sub('', text)\n\n# I notice that there are a lot of city names in the dataset, which won't be that useful\n# This function will just change them to \"city\"\n# It's not perfect (\"San Francisco, CA\" will become \"San city\"), but I think it's better than nothing\n# This function relies on capital letters and commas, so do it before removing punctuation and lowering\ndef remove_city_names(text): \n    city_state_pattern = re.compile(\"(?<![A-Za-z])[A-Z][a-z]+, [A-Z]{2}(?![A-Za-z])\") # Matches strings like \"Nashville, TN\"\n    return city_state_pattern.sub('city', text)\n\ndef remove_punctuation(text):\n    PUNCT_TO_REMOVE = string.punctuation\n    return text.translate(str.maketrans('', '', PUNCT_TO_REMOVE))\n\ndef remove_numbers(text):\n    return ''.join([i for i in text if not i.isdigit()])\n\ndef remove_dates(text):\n    dates = ['january', 'february', 'march', 'april', 'may', 'june', 'july', 'august', 'september', 'october', 'november', 'december', 'jan', 'feb', 'mar', 'apr', 'may', 'jun', 'jul', 'aug', 'sep', \n    'sept', 'oct', 'nov', 'dec'] #added abbreviations to the months list\n    return \" \".join([word for word in text.split(\" \") if word not in dates])\n\nstop_words = []\nwith open(\"stopwords.txt\", \"r\") as f_in:\n        stop_words = [i.strip().lower() for i in f_in.readlines()]\ndef remove_stopwords(text):\n    return \" \".join([word for word in text.split(\" \") if word not in stop_words])\n    ",
   "execution_count": 5,
   "outputs": []
  },
  {
   "cell_type": "code",
   "metadata": {
    "cell_id": "00009-36dc2aca-f87a-49b6-a3f7-eb22f2a9aa37",
    "deepnote_to_be_reexecuted": false,
    "execution_millis": 2,
    "execution_start": 1636182357637,
    "source_hash": "a1f7fbd8",
    "tags": [],
    "deepnote_cell_type": "code"
   },
   "source": "def clean_string(dirty_string): # Returns a cleaned version of dirty_string\n    cleaned_string = dirty_string\n    cleaned_string = normalize(cleaned_string)            # Normalizes (removes accents and things like that)\n    cleaned_string = remove_phone_numbers(cleaned_string) # Removing phone numbers\n    cleaned_string = remove_html(cleaned_string)          # Removing html tags\n    cleaned_string = remove_urls(cleaned_string)          # Removing urls\n    cleaned_string = remove_emoji(cleaned_string)         # Removing emojis\n    cleaned_string = remove_hashtags(cleaned_string)      # Removing hashtags\n    cleaned_string = remove_city_names(cleaned_string)    # Removing city names\n    cleaned_string = remove_punctuation(cleaned_string)   # Removing punctuation\n    cleaned_string = cleaned_string.lower()               # Making all the text lowercase\n    cleaned_string = remove_numbers(cleaned_string)       # Removing numbers\n    cleaned_string = remove_dates(cleaned_string)         # Removing dates \n    cleaned_string = remove_stopwords(cleaned_string)     # Removing commonly used words\n\n    return cleaned_string",
   "execution_count": 6,
   "outputs": []
  },
  {
   "cell_type": "code",
   "metadata": {
    "tags": [],
    "cell_id": "00012-434e31ec-fc8c-4104-8510-3d044799c7dd",
    "deepnote_to_be_reexecuted": false,
    "source_hash": "ad445c9",
    "execution_start": 1636182357639,
    "execution_millis": 96667,
    "deepnote_cell_type": "code"
   },
   "source": "cleaned_data = raw_data\ncleaned_data['description'] = cleaned_data['description'].apply(clean_string)",
   "execution_count": 7,
   "outputs": []
  },
  {
   "cell_type": "code",
   "metadata": {
    "tags": [],
    "cell_id": "00013-e33dfa71-cddd-4008-bc92-ab2e79aeb559",
    "deepnote_to_be_reexecuted": false,
    "source_hash": "b231596a",
    "execution_start": 1636182454307,
    "execution_millis": 4,
    "deepnote_cell_type": "code"
   },
   "source": "print(cleaned_data['description'].loc[100])",
   "execution_count": 8,
   "outputs": [
    {
     "name": "stdout",
     "text": "rehababilities designed mind therapistowned speak language  value high clinical standards  ethics pride qualified  experienced scheduling team therapy personnel  social workers dedicated providing excellent patient care physical therapist assistant inpatient outpatient former employee     rehababilities pro white male racist company accepting assignments assignments often taken away given white males replacement assignments lieu withdrawn assignments additional compensation  works well rehababilities people know best inside scoop jobs salaries top office locations ceo insights compare pay popular roles read teams worklife balance uncover rehababilities best company  review rehababilities experiencing staffing agency would longer using types services longer initial hr assistance reached screened nice recruiter mark quite pushy disrespectful know staffing agencies commission like car sales people matched hired rehababilities new mexico foreign profit corporation filed   companys filing status listed revoked final file number  registered agent file company michael jones located  zuni rd se   rehababilities operates non profit organization company offers occupational physical marriage family therapy speech language pathology case   avenue rancho   website rehababilities offers comprehensive range services medical assistance rancho keep circulation flowing muscles eased massage clinic rehababilities  social service professionals reviews updated       recommend friend kim oziasjones  rating trust top concern companies cant alter remove reviews average rehababilities  social service professionals hourly pay ranges approximately  social worker  social worker rehababilities  social service professionals employees rate overall compensation benefits package  stars  listings related rehababilities rancho cucamonga  reviews photos directions phone numbers rehababilities locations rancho rehababilities  hourly rate  free salary comparison based job title skills experience education accurate reliable salary compensation comparisons united states supplier spotlight rehababilities marketing  suppliers company location rancho type staffing allied social work name susan westin job title rehab staffing manager rehababilities   present  years  months rancho cucamonga hr recruiter artic mechanical     months sr consultant frederick  andrews  site  phone   fax addresses  ste  rancho  mailing    rancho  state id  business type foreign forprofit corporation rehababilities  located  ste  rancho cucamonga additional information available  contacting kimberly jones  rehababilities  rehab therapy staffing jobs   california visit website therapy job opportunities rehababilities rehabilitation social work staffing company handle multifaceted administrative needs provide support executive account management client relations  national acquisition contract catalog search tool allows facility browse medsurg pharmaceutical products services available federal supply service contracts search tool allows user locate items using variety search criteria including item description special item number sin contract number national acquisition contract catalog search tool allows facility browse medsurg pharmaceutical products services available federal supply service contracts search tool allows user locate items using variety search criteria including item description special item number sin contract number\n",
     "output_type": "stream"
    }
   ]
  },
  {
   "cell_type": "markdown",
   "source": "# Task 4: Stemming",
   "metadata": {
    "tags": [],
    "is_collapsed": false,
    "cell_id": "00013-601cdaa4-0fc7-4004-9900-c3190953a9c2",
    "deepnote_cell_type": "text-cell-h1"
   }
  },
  {
   "cell_type": "markdown",
   "source": "Looking&nbsp;at&nbsp;nltk&nbsp;library: Create&nbsp;a&nbsp;function&nbsp;to&nbsp;apply&nbsp;at&nbsp;least&nbsp;2&nbsp;stemming&nbsp;techniques&nbsp;to&nbsp;the&nbsp;dataset.",
   "metadata": {
    "tags": [],
    "is_collapsed": false,
    "cell_id": "00014-32f004b8-d361-4a83-afd7-bba8c4367b4c",
    "deepnote_cell_type": "text-cell-p"
   }
  },
  {
   "cell_type": "code",
   "metadata": {
    "tags": [],
    "cell_id": "00015-966bc56b-4456-4ef6-a8fd-7272028482e6",
    "deepnote_to_be_reexecuted": false,
    "source_hash": "ea4cd6cf",
    "execution_start": 1636182454308,
    "execution_millis": 561704,
    "deepnote_cell_type": "code"
   },
   "source": "stemmer1 = nltk.stem.PorterStemmer()\nstemmer2 = nltk.stem.SnowballStemmer(\"english\")\n\n#makes 2 new columns to store the stemmed versions of description\ncleaned_data['stemtest1'] = cleaned_data['description'].apply(lambda x: ' '.join([stemmer1.stem(y) for y in x.split()]))\nprint(cleaned_data['stemtest1'].loc[100])\ncleaned_data['stemtest2'] = cleaned_data['description'].apply(lambda x: ' '.join([stemmer2.stem(y) for y in x.split()]))\nprint(cleaned_data['stemtest2'].loc[100])",
   "execution_count": null,
   "outputs": []
  },
  {
   "cell_type": "markdown",
   "source": "After comparing the 2 results, the 2 stemmers are nearly identical. For most of the words, both were correct in grabbing the root of the word. However, both seem to heavily struggle when the word ended with an e. Almost always was the e always incorrectly taken out. Now, while the 2 are nearly identical, there is one slight difference. Snowball Stemmer actually got the root word hourly correct as hour. Meanwhile Porter Stemmer mistook the root word as hourli. It seems that Snowball Stemmer is slightly more accurate albeit that it still fails just like Porter Stemmer when it comes to words that end in e. ",
   "metadata": {
    "tags": [],
    "is_collapsed": false,
    "cell_id": "00016-18c77dc6-28e9-49cb-a948-d8655c654010",
    "deepnote_cell_type": "text-cell-p"
   }
  },
  {
   "cell_type": "markdown",
   "source": "# Task 5: Lemmatization",
   "metadata": {
    "tags": [],
    "is_collapsed": false,
    "cell_id": "00017-1a5620c8-c5aa-4389-808a-854806d4987a",
    "deepnote_cell_type": "text-cell-h1"
   }
  },
  {
   "cell_type": "markdown",
   "source": "Create&nbsp;a&nbsp;function&nbsp;to&nbsp;apply&nbsp;at&nbsp;least&nbsp;2&nbsp;lemmatization&nbsp;techniques&nbsp;to&nbsp;the&nbsp;dataset.",
   "metadata": {
    "tags": [],
    "is_collapsed": false,
    "cell_id": "00018-09708dcc-38b3-4ee4-897d-6dc10e9a36b6",
    "deepnote_cell_type": "text-cell-p"
   }
  },
  {
   "cell_type": "code",
   "metadata": {
    "tags": [],
    "cell_id": "00020-bda99f85-8f9b-4f16-aa98-3087e3a1cd3b",
    "deepnote_to_be_reexecuted": true,
    "source_hash": "681179b0",
    "execution_start": 1634698833931,
    "execution_millis": 1002992,
    "deepnote_cell_type": "code"
   },
   "source": "lemmatizer1 = nltk.stem.WordNetLemmatizer()\nlemmatizer2 = spacy.load('en_core_web_sm', disable=[\"parser\", \"ner\"])\n\ncleaned_data['lemstem1'] = cleaned_data['description'].apply(lambda x: ' '.join([lemmatizer1.lemmatize(y) for y in x.split()]))\nprint(cleaned_data['lemstem1'].loc[100])\n\ncleaned_data['lemstem2'] = cleaned_data['description'].apply(lambda x: ' '.join([token.lemma_ for token in lemmatizer2(x)]))\nprint(cleaned_data['lemstem1'].loc[100])",
   "execution_count": null,
   "outputs": [
    {
     "name": "stdout",
     "text": "rehababilities designed mind therapistowned speak language value high clinical standard ethic pride qualified experienced scheduling team therapy personnel social worker dedicated providing excellent patient care physical therapist assistant inpatient outpatient former employee rehababilities pro white male racist company accepting assignment assignment often taken away given white male replacement assignment lieu withdrawn assignment additional compensation work well rehababilities people know best inside scoop job salary top office location ceo insight compare pay popular role read team worklife balance uncover rehababilities best company review rehababilities experiencing staffing agency would longer using type service longer initial hr assistance reached screened nice recruiter mark quite pushy disrespectful know staffing agency commission like car sale people matched hired rehababilities inc new mexico foreign profit corporation filed company filing status listed revoked final file number registered agent file company michael jones located zuni rd se rehababilities inc operates non profit organization company offer occupational physical marriage family therapy speech language pathology case avenue rancho website rehababilities offer comprehensive range service need medical assistance rancho keep circulation flowing muscle eased massage clinic rehababilities social service professional review updated recommend friend kim oziasjones rating trust top concern company cant alter remove review average rehababilities social service professional hourly pay range approximately social worker social worker rehababilities social service professional employee rate overall compensation benefit package star listing related rehababilities inc rancho cucamonga review photo direction phone number rehababilities inc location rancho rehababilities hourly rate free salary comparison based job title skill experience education accurate reliable salary compensation comparison united state supplier spotlight rehababilities marketing supplier company location rancho type staffing allied social work name susan westin job title rehab staffing manager rehababilities present year month rancho cucamonga hr recruiter artic mechanical month sr consultant frederick andrew site phone fax address ste rancho mailing rancho state id business type foreign forprofit corporation rehababilities inc founded located ste rancho cucamonga additional information available contacting kimberly jones rehababilities rehab therapy staffing job california visit website therapy job opportunity rehababilities rehabilitation social work staffing company handle multifaceted administrative need provide support executive account management client relation national acquisition center contract catalog search tool allows facility browse medsurg pharmaceutical product service available federal supply service contract search tool allows user locate item using variety search criterion including item description special item number sin contract number national acquisition center contract catalog search tool allows facility browse medsurg pharmaceutical product service available federal supply service contract search tool allows user locate item using variety search criterion including item description special item number sin contract number\nrehababilities designed mind therapistowned speak language value high clinical standard ethic pride qualified experienced scheduling team therapy personnel social worker dedicated providing excellent patient care physical therapist assistant inpatient outpatient former employee rehababilities pro white male racist company accepting assignment assignment often taken away given white male replacement assignment lieu withdrawn assignment additional compensation work well rehababilities people know best inside scoop job salary top office location ceo insight compare pay popular role read team worklife balance uncover rehababilities best company review rehababilities experiencing staffing agency would longer using type service longer initial hr assistance reached screened nice recruiter mark quite pushy disrespectful know staffing agency commission like car sale people matched hired rehababilities inc new mexico foreign profit corporation filed company filing status listed revoked final file number registered agent file company michael jones located zuni rd se rehababilities inc operates non profit organization company offer occupational physical marriage family therapy speech language pathology case avenue rancho website rehababilities offer comprehensive range service need medical assistance rancho keep circulation flowing muscle eased massage clinic rehababilities social service professional review updated recommend friend kim oziasjones rating trust top concern company cant alter remove review average rehababilities social service professional hourly pay range approximately social worker social worker rehababilities social service professional employee rate overall compensation benefit package star listing related rehababilities inc rancho cucamonga review photo direction phone number rehababilities inc location rancho rehababilities hourly rate free salary comparison based job title skill experience education accurate reliable salary compensation comparison united state supplier spotlight rehababilities marketing supplier company location rancho type staffing allied social work name susan westin job title rehab staffing manager rehababilities present year month rancho cucamonga hr recruiter artic mechanical month sr consultant frederick andrew site phone fax address ste rancho mailing rancho state id business type foreign forprofit corporation rehababilities inc founded located ste rancho cucamonga additional information available contacting kimberly jones rehababilities rehab therapy staffing job california visit website therapy job opportunity rehababilities rehabilitation social work staffing company handle multifaceted administrative need provide support executive account management client relation national acquisition center contract catalog search tool allows facility browse medsurg pharmaceutical product service available federal supply service contract search tool allows user locate item using variety search criterion including item description special item number sin contract number national acquisition center contract catalog search tool allows facility browse medsurg pharmaceutical product service available federal supply service contract search tool allows user locate item using variety search criterion including item description special item number sin contract number\n",
     "output_type": "stream"
    }
   ]
  },
  {
   "cell_type": "markdown",
   "source": "The two lemmatization techniques (WordNet and Spacy) seem to produce nearly identical results, although WordNet seemed to process much faster than Spacy. Compared to stemming, lemmatization excels in where stemming fails: over or under reacting on certain words. For example, stemming seemed to heavily react to words that ended in the letter 'e'. It would overstem in many cases. This overstemming could potentially heavily interfere with the data set. On the other hand, lemmatization seemed to process the data set smoothly and stayed relatively true the data set. Words aren't as harshly acted upon and are treated more equitably. There does not seem to be too big of an overreaction nor an underreaction. That said, its better results came at the price of a much higher processing time (over 15 minutes without cache) compared to the time for stemming (around 5 minutes without cache).",
   "metadata": {
    "tags": [],
    "cell_id": "00020-9630c16c-6a2c-4df3-911f-1462725b731d",
    "deepnote_cell_type": "markdown"
   }
  },
  {
   "cell_type": "markdown",
   "source": "## Task 7: Conclusion\n#### Overview\nOverall, the results of our data cleaning are vast improvements on the original text. Information that was either irrelevant or impossible for the model to act on, of which there was a lot, is largely gone, and the remaining information has been transformed into a format that will be easier to process. Most of the information that we deemed irrelevant consisted of dates, websites, punctuation, phone numbers, and metadata. While that information may be valuable to the average consumer, such information had little to zero purpose in our aggregate data and were thus discarded. \n#### Stemming V.S. Lemmatization\nBoth stemming and lemmatization found some success in simplifying the text. However, while stemming techniques tened to oversimplify, and therefore lost some of the information communicated in the text, lemmatization techniques tended not to simplify quite enough, and so produced results that sometimes left similar words that will look different in the model (this problem seems far less severe than that of stemming). Ultimately, we found that lemmatization created results that contained more of the original meaning behind the text, as opposed to stemming. \nIn short: Lemmatization is more accurate and stays relatively truer to the data than stemmization; stemmization is faster to process than lemmatization.",
   "metadata": {
    "tags": [],
    "cell_id": "00021-0896edd5-caf2-4602-a4e2-ee28dd45fd05",
    "deepnote_cell_type": "markdown"
   }
  },
  {
   "cell_type": "markdown",
   "source": "# Task 8: Spelling Corrector",
   "metadata": {
    "tags": [],
    "is_collapsed": false,
    "cell_id": "00022-9078e1cf-aa8d-4d00-a486-85732247fb7e",
    "deepnote_cell_type": "text-cell-h1"
   }
  },
  {
   "cell_type": "code",
   "metadata": {
    "tags": [],
    "cell_id": "00024-4b469322-feab-465f-a811-b6e5beee735e",
    "deepnote_to_be_reexecuted": true,
    "source_hash": "ea35c559",
    "execution_start": 1634739742239,
    "execution_millis": 5320,
    "deepnote_cell_type": "code"
   },
   "source": "!pip install pyspellchecker",
   "execution_count": null,
   "outputs": [
    {
     "name": "stdout",
     "text": "Collecting pyspellchecker\n  Downloading pyspellchecker-0.6.2-py3-none-any.whl (2.7 MB)\n\u001b[K     |████████████████████████████████| 2.7 MB 16.2 MB/s \n\u001b[?25hInstalling collected packages: pyspellchecker\nSuccessfully installed pyspellchecker-0.6.2\n\u001b[33mWARNING: You are using pip version 21.2.4; however, version 21.3 is available.\nYou should consider upgrading via the '/root/venv/bin/python -m pip install --upgrade pip' command.\u001b[0m\n",
     "output_type": "stream"
    }
   ]
  },
  {
   "cell_type": "code",
   "metadata": {
    "tags": [],
    "cell_id": "00025-b950c963-07e2-4b2c-97e9-a47b10a375fe",
    "deepnote_to_be_reexecuted": true,
    "source_hash": "526ffc6a",
    "execution_start": 1634739828663,
    "execution_millis": 286,
    "deepnote_cell_type": "code"
   },
   "source": "from spellchecker import SpellChecker\nspell=SpellChecker()",
   "execution_count": null,
   "outputs": [
    {
     "name": "stdout",
     "text": "water\n",
     "output_type": "stream"
    }
   ]
  },
  {
   "cell_type": "code",
   "metadata": {
    "tags": [],
    "cell_id": "00025-5f612d83-0eab-4ed1-8e0d-b07a475e093e",
    "deepnote_to_be_reexecuted": true,
    "source_hash": "c9da61e5",
    "execution_start": 1634740637683,
    "execution_millis": 668,
    "deepnote_cell_type": "code"
   },
   "source": "print(spell.correction(\"waterr\"))\nprint(spell.correction(\"dogg\"))\nprint(spell.correction(\"bannnanana\"))\nprint(spell.correction(\"horrror\"))",
   "execution_count": null,
   "outputs": [
    {
     "name": "stdout",
     "text": "water\ndogg\nbannnanana\nhorror\n",
     "output_type": "stream"
    }
   ]
  },
  {
   "cell_type": "code",
   "metadata": {
    "tags": [],
    "cell_id": "00026-a5e99aed-282f-4b15-bfcf-b77895a3cce1",
    "deepnote_to_be_reexecuted": true,
    "source_hash": "2b01a487",
    "execution_start": 1634740237675,
    "execution_millis": 1215,
    "deepnote_cell_type": "code"
   },
   "source": "from collections import Counter\n\ndef words(text): return re.findall(r'\\w+', text.lower())\n\n#testing with our raw data's description to see what results it will bring\nWORDS = Counter(words(raw_data['description'].to_string()))\n\ndef P(word, N=sum(WORDS.values())): \n    \"Probability of `word`.\"\n    return WORDS[word] / N\n\ndef correction(word): \n    \"Most probable spelling correction for word.\"\n    return max(candidates(word), key=P)\n\ndef candidates(word): \n    \"Generate possible spelling corrections for word.\"\n    return (known([word]) or known(edits1(word)) or known(edits2(word)) or [word])\n\ndef known(words): \n    \"The subset of `words` that appear in the dictionary of WORDS.\"\n    return set(w for w in words if w in WORDS)\n\ndef edits1(word):\n    \"All edits that are one edit away from `word`.\"\n    letters    = 'abcdefghijklmnopqrstuvwxyz'\n    splits     = [(word[:i], word[i:])    for i in range(len(word) + 1)]\n    deletes    = [L + R[1:]               for L, R in splits if R]\n    transposes = [L + R[1] + R[0] + R[2:] for L, R in splits if len(R)>1]\n    replaces   = [L + c + R[1:]           for L, R in splits if R for c in letters]\n    inserts    = [L + c + R               for L, R in splits for c in letters]\n    return set(deletes + transposes + replaces + inserts)\n\ndef edits2(word): \n    \"All edits that are two edits away from `word`.\"\n    return (e2 for e1 in edits1(word) for e2 in edits1(e1))",
   "execution_count": null,
   "outputs": []
  },
  {
   "cell_type": "code",
   "metadata": {
    "tags": [],
    "cell_id": "00027-dc703880-1287-4dce-832d-78ca96300fb1",
    "deepnote_to_be_reexecuted": true,
    "source_hash": "867c2a37",
    "execution_start": 1634740558482,
    "execution_millis": 526,
    "deepnote_cell_type": "code"
   },
   "source": "print(correction(\"comppany\"))\nprint(correction(\"cityyy\"))\nprint(correction(\"horrror\"))\nprint(correction(\"appple\"))\nprint(correction(\"rreviewws\"))",
   "execution_count": null,
   "outputs": [
    {
     "name": "stdout",
     "text": "company\ncity\nhorrror\napple\nreviews\n",
     "output_type": "stream"
    }
   ]
  },
  {
   "cell_type": "markdown",
   "source": "Despite not using a bigger and more expansive word base, the raw data seems rather sufficient in serving as an autocorrect. However, as seen with \"horrror\", it clearly isn't expansive enough.",
   "metadata": {
    "tags": [],
    "is_collapsed": false,
    "cell_id": "00028-eff0b784-e88f-499e-aa08-1f1dfdfc6512",
    "deepnote_cell_type": "text-cell-p"
   }
  },
  {
   "cell_type": "markdown",
   "source": "<a style='text-decoration:none;line-height:16px;display:flex;color:#5B5B62;padding:10px;justify-content:end;' href='https://deepnote.com?utm_source=created-in-deepnote-cell&projectId=8c3c1e35-d859-43d3-a474-2266dd536418' target=\"_blank\">\n<img alt='Created in deepnote.com' style='display:inline;max-height:16px;margin:0px;margin-right:7.5px;' src='data:image/svg+xml;base64,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' > </img>\nCreated in <span style='font-weight:600;margin-left:4px;'>Deepnote</span></a>",
   "metadata": {
    "tags": [],
    "created_in_deepnote_cell": true,
    "deepnote_cell_type": "markdown"
   }
  }
 ],
 "nbformat": 4,
 "nbformat_minor": 2,
 "metadata": {
  "deepnote": {},
  "deepnote_execution_queue": [
   {
    "cellId": "00015-966bc56b-4456-4ef6-a8fd-7272028482e6",
    "sessionId": "c1f157e9-da6d-40e3-ab55-3b2034e652aa",
    "msgId": "2df85978-324b-4390-9f46-5cb1f997af3d"
   },
   {
    "cellId": "00020-bda99f85-8f9b-4f16-aa98-3087e3a1cd3b",
    "sessionId": "c1f157e9-da6d-40e3-ab55-3b2034e652aa",
    "msgId": "fa968af2-26ca-4b9e-ae30-ab1d528cf44c"
   },
   {
    "cellId": "00024-4b469322-feab-465f-a811-b6e5beee735e",
    "sessionId": "c1f157e9-da6d-40e3-ab55-3b2034e652aa",
    "msgId": "89177e88-57fb-4c15-b5d3-4c594dc8f6d9"
   },
   {
    "cellId": "00025-b950c963-07e2-4b2c-97e9-a47b10a375fe",
    "sessionId": "c1f157e9-da6d-40e3-ab55-3b2034e652aa",
    "msgId": "bf4711a8-2bb6-4b2b-9d75-074f89baaff0"
   },
   {
    "cellId": "00025-5f612d83-0eab-4ed1-8e0d-b07a475e093e",
    "sessionId": "c1f157e9-da6d-40e3-ab55-3b2034e652aa",
    "msgId": "bfc8957f-aa16-423b-8916-9376127b5e13"
   },
   {
    "cellId": "00026-a5e99aed-282f-4b15-bfcf-b77895a3cce1",
    "sessionId": "c1f157e9-da6d-40e3-ab55-3b2034e652aa",
    "msgId": "9dad4993-c0ce-437a-9aba-ddc0f114cd32"
   },
   {
    "cellId": "00027-dc703880-1287-4dce-832d-78ca96300fb1",
    "sessionId": "c1f157e9-da6d-40e3-ab55-3b2034e652aa",
    "msgId": "c526472f-585a-4691-821f-e082a4e5944c"
   }
  ],
  "deepnote_notebook_id": "92af2e33-ea3a-4b43-9a41-dbab4687cff2",
  "interpreter": {
   "hash": "6dd0af9b8b7e17f847c2ee7319c6039c72192adc34eba6a901458aae092d1543"
  },
  "kernelspec": {
   "display_name": "Python 3.9.1 64-bit",
   "name": "python3"
  },
  "language_info": {
   "codemirror_mode": {
    "name": "ipython",
    "version": 3
   },
   "file_extension": ".py",
   "mimetype": "text/x-python",
   "name": "python",
   "nbconvert_exporter": "python",
   "pygments_lexer": "ipython3",
   "version": "3.9.1"
  },
  "orig_nbformat": 4
 }
}